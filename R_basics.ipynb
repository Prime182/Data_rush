{
 "cells": [
  {
   "cell_type": "markdown",
   "id": "e8eceb26",
   "metadata": {},
   "source": [
    "SETTING UP"
   ]
  },
  {
   "cell_type": "code",
   "execution_count": null,
   "id": "c717a773",
   "metadata": {
    "vscode": {
     "languageId": "r"
    }
   },
   "outputs": [
    {
     "data": {
      "text/html": [
       "'e:/data rush'"
      ],
      "text/latex": [
       "'e:/data rush'"
      ],
      "text/markdown": [
       "'e:/data rush'"
      ],
      "text/plain": [
       "[1] \"e:/data rush\""
      ]
     },
     "metadata": {},
     "output_type": "display_data"
    }
   ],
   "source": [
    "getwd()\n",
    "setwd()"
   ]
  },
  {
   "cell_type": "markdown",
   "id": "5a625fe7",
   "metadata": {},
   "source": [
    "VECTORS"
   ]
  },
  {
   "cell_type": "code",
   "execution_count": 17,
   "id": "67933b4e",
   "metadata": {
    "vscode": {
     "languageId": "r"
    }
   },
   "outputs": [
    {
     "data": {
      "text/html": [
       "<style>\n",
       ".list-inline {list-style: none; margin:0; padding: 0}\n",
       ".list-inline>li {display: inline-block}\n",
       ".list-inline>li:not(:last-child)::after {content: \"\\00b7\"; padding: 0 .5ex}\n",
       "</style>\n",
       "<ol class=list-inline><li>19</li><li>17</li><li>21</li><li>20</li><li>37</li></ol>\n"
      ],
      "text/latex": [
       "\\begin{enumerate*}\n",
       "\\item 19\n",
       "\\item 17\n",
       "\\item 21\n",
       "\\item 20\n",
       "\\item 37\n",
       "\\end{enumerate*}\n"
      ],
      "text/markdown": [
       "1. 19\n",
       "2. 17\n",
       "3. 21\n",
       "4. 20\n",
       "5. 37\n",
       "\n",
       "\n"
      ],
      "text/plain": [
       "[1] 19 17 21 20 37"
      ]
     },
     "metadata": {},
     "output_type": "display_data"
    },
    {
     "data": {
      "text/html": [
       "<style>\n",
       ".list-inline {list-style: none; margin:0; padding: 0}\n",
       ".list-inline>li {display: inline-block}\n",
       ".list-inline>li:not(:last-child)::after {content: \"\\00b7\"; padding: 0 .5ex}\n",
       "</style>\n",
       "<ol class=list-inline><li>'Luffy'</li><li>'Chopper'</li><li>'Zoro'</li><li>'Nami'</li><li>'Jinbe'</li></ol>\n"
      ],
      "text/latex": [
       "\\begin{enumerate*}\n",
       "\\item 'Luffy'\n",
       "\\item 'Chopper'\n",
       "\\item 'Zoro'\n",
       "\\item 'Nami'\n",
       "\\item 'Jinbe'\n",
       "\\end{enumerate*}\n"
      ],
      "text/markdown": [
       "1. 'Luffy'\n",
       "2. 'Chopper'\n",
       "3. 'Zoro'\n",
       "4. 'Nami'\n",
       "5. 'Jinbe'\n",
       "\n",
       "\n"
      ],
      "text/plain": [
       "[1] \"Luffy\"   \"Chopper\" \"Zoro\"    \"Nami\"    \"Jinbe\"  "
      ]
     },
     "metadata": {},
     "output_type": "display_data"
    },
    {
     "data": {
      "text/html": [
       "<style>\n",
       ".list-inline {list-style: none; margin:0; padding: 0}\n",
       ".list-inline>li {display: inline-block}\n",
       ".list-inline>li:not(:last-child)::after {content: \"\\00b7\"; padding: 0 .5ex}\n",
       "</style>\n",
       "<ol class=list-inline><li>'M'</li><li>'M'</li><li>'M'</li><li>'F'</li><li>'M'</li></ol>\n"
      ],
      "text/latex": [
       "\\begin{enumerate*}\n",
       "\\item 'M'\n",
       "\\item 'M'\n",
       "\\item 'M'\n",
       "\\item 'F'\n",
       "\\item 'M'\n",
       "\\end{enumerate*}\n"
      ],
      "text/markdown": [
       "1. 'M'\n",
       "2. 'M'\n",
       "3. 'M'\n",
       "4. 'F'\n",
       "5. 'M'\n",
       "\n",
       "\n"
      ],
      "text/plain": [
       "[1] \"M\" \"M\" \"M\" \"F\" \"M\""
      ]
     },
     "metadata": {},
     "output_type": "display_data"
    },
    {
     "data": {
      "text/html": [
       "<style>\n",
       ".list-inline {list-style: none; margin:0; padding: 0}\n",
       ".list-inline>li {display: inline-block}\n",
       ".list-inline>li:not(:last-child)::after {content: \"\\00b7\"; padding: 0 .5ex}\n",
       "</style>\n",
       "<ol class=list-inline><li>TRUE</li><li>TRUE</li><li>TRUE</li><li>FALSE</li><li>TRUE</li></ol>\n"
      ],
      "text/latex": [
       "\\begin{enumerate*}\n",
       "\\item TRUE\n",
       "\\item TRUE\n",
       "\\item TRUE\n",
       "\\item FALSE\n",
       "\\item TRUE\n",
       "\\end{enumerate*}\n"
      ],
      "text/markdown": [
       "1. TRUE\n",
       "2. TRUE\n",
       "3. TRUE\n",
       "4. FALSE\n",
       "5. TRUE\n",
       "\n",
       "\n"
      ],
      "text/plain": [
       "[1]  TRUE  TRUE  TRUE FALSE  TRUE"
      ]
     },
     "metadata": {},
     "output_type": "display_data"
    }
   ],
   "source": [
    "#num vector\n",
    "age<-c(19,17,21,20,37)\n",
    "age\n",
    "\n",
    "#Char vector\n",
    "name<-c(\"Luffy\",\"Chopper\",\"Zoro\",\"Nami\",\"Jinbe\")\n",
    "name\n",
    "\n",
    "gender<-c('M',\"M\",\"M\",\"F\",\"M\")\n",
    "gender\n",
    "\n",
    "#logic vec\n",
    "gender_is_M<-c(TRUE,TRUE,TRUE,FALSE,TRUE)\n",
    "gender_is_M"
   ]
  },
  {
   "cell_type": "code",
   "execution_count": 28,
   "id": "a1299fa4",
   "metadata": {
    "vscode": {
     "languageId": "r"
    }
   },
   "outputs": [
    {
     "data": {
      "text/html": [
       "'numeric'"
      ],
      "text/latex": [
       "'numeric'"
      ],
      "text/markdown": [
       "'numeric'"
      ],
      "text/plain": [
       "[1] \"numeric\""
      ]
     },
     "metadata": {},
     "output_type": "display_data"
    },
    {
     "data": {
      "text/html": [
       "'double'"
      ],
      "text/latex": [
       "'double'"
      ],
      "text/markdown": [
       "'double'"
      ],
      "text/plain": [
       "[1] \"double\""
      ]
     },
     "metadata": {},
     "output_type": "display_data"
    }
   ],
   "source": [
    "#classes and types class() typeof()\n",
    "\n",
    "class(age) \n",
    "typeof(age)\n"
   ]
  },
  {
   "cell_type": "code",
   "execution_count": null,
   "id": "97ada888",
   "metadata": {
    "vscode": {
     "languageId": "r"
    }
   },
   "outputs": [
    {
     "name": "stdout",
     "output_type": "stream",
     "text": [
      "Class of age = numeric , Type of age = double \n",
      "Class of name = character , Type of name = character \n",
      "Class of gender = character , Type of gender = character \n",
      "Class of gender_is_M = logical , Type of gender_is_M = logical \n"
     ]
    }
   ],
   "source": [
    "# Define a helper function to print class and type\n",
    "print_class_type <- function(var, var_name) {\n",
    "  cat(\"Class of\", var_name, \"=\", class(var), \",\", \"Type of\", var_name, \"=\", typeof(var), \"\\n\") # nolint\n",
    "}\n",
    "\n",
    "# Use the function for each variable\n",
    "print_class_type(age, \"age\")\n",
    "print_class_type(name, \"name\")\n",
    "print_class_type(gender, \"gender\")\n",
    "print_class_type(gender_is_M, \"gender_is_M\")\n"
   ]
  },
  {
   "cell_type": "code",
   "execution_count": 24,
   "id": "1e646cc6",
   "metadata": {
    "vscode": {
     "languageId": "r"
    }
   },
   "outputs": [
    {
     "name": "stdout",
     "output_type": "stream",
     "text": [
      "Hello World"
     ]
    }
   ],
   "source": [
    "print<-function(x){cat(x)}\n",
    "print(\"Hello World\")"
   ]
  },
  {
   "cell_type": "code",
   "execution_count": null,
   "id": "c3758550",
   "metadata": {
    "vscode": {
     "languageId": "r"
    }
   },
   "outputs": [
    {
     "data": {
      "text/html": [
       "<style>\n",
       ".list-inline {list-style: none; margin:0; padding: 0}\n",
       ".list-inline>li {display: inline-block}\n",
       ".list-inline>li:not(:last-child)::after {content: \"\\00b7\"; padding: 0 .5ex}\n",
       "</style>\n",
       "<ol class=list-inline><li>1</li><li>2</li><li>3</li><li>4</li><li>5</li><li>6</li><li>7</li><li>8</li></ol>\n"
      ],
      "text/latex": [
       "\\begin{enumerate*}\n",
       "\\item 1\n",
       "\\item 2\n",
       "\\item 3\n",
       "\\item 4\n",
       "\\item 5\n",
       "\\item 6\n",
       "\\item 7\n",
       "\\item 8\n",
       "\\end{enumerate*}\n"
      ],
      "text/markdown": [
       "1. 1\n",
       "2. 2\n",
       "3. 3\n",
       "4. 4\n",
       "5. 5\n",
       "6. 6\n",
       "7. 7\n",
       "8. 8\n",
       "\n",
       "\n"
      ],
      "text/plain": [
       "[1] 1 2 3 4 5 6 7 8"
      ]
     },
     "metadata": {},
     "output_type": "display_data"
    },
    {
     "data": {
      "text/html": [
       "<style>\n",
       ".list-inline {list-style: none; margin:0; padding: 0}\n",
       ".list-inline>li {display: inline-block}\n",
       ".list-inline>li:not(:last-child)::after {content: \"\\00b7\"; padding: 0 .5ex}\n",
       "</style>\n",
       "<ol class=list-inline><li>1</li><li>3</li><li>5</li><li>7</li></ol>\n"
      ],
      "text/latex": [
       "\\begin{enumerate*}\n",
       "\\item 1\n",
       "\\item 3\n",
       "\\item 5\n",
       "\\item 7\n",
       "\\end{enumerate*}\n"
      ],
      "text/markdown": [
       "1. 1\n",
       "2. 3\n",
       "3. 5\n",
       "4. 7\n",
       "\n",
       "\n"
      ],
      "text/plain": [
       "[1] 1 3 5 7"
      ]
     },
     "metadata": {},
     "output_type": "display_data"
    }
   ],
   "source": [
    "#sequence start end\n",
    "sequential <- seq(1,8)\n",
    "sequential\n",
    "\n",
    "##sequence start end steps\n",
    "sequential1 <- seq(1,8,2)\n",
    "sequential1"
   ]
  },
  {
   "cell_type": "code",
   "execution_count": null,
   "id": "a8a5c28d",
   "metadata": {
    "vscode": {
     "languageId": "r"
    }
   },
   "outputs": [
    {
     "data": {
      "text/html": [
       "<style>\n",
       ".list-inline {list-style: none; margin:0; padding: 0}\n",
       ".list-inline>li {display: inline-block}\n",
       ".list-inline>li:not(:last-child)::after {content: \"\\00b7\"; padding: 0 .5ex}\n",
       "</style>\n",
       "<ol class=list-inline><li>8</li><li>8</li><li>8</li><li>8</li><li>8</li><li>8</li><li>8</li><li>8</li><li>8</li><li>8</li></ol>\n"
      ],
      "text/latex": [
       "\\begin{enumerate*}\n",
       "\\item 8\n",
       "\\item 8\n",
       "\\item 8\n",
       "\\item 8\n",
       "\\item 8\n",
       "\\item 8\n",
       "\\item 8\n",
       "\\item 8\n",
       "\\item 8\n",
       "\\item 8\n",
       "\\end{enumerate*}\n"
      ],
      "text/markdown": [
       "1. 8\n",
       "2. 8\n",
       "3. 8\n",
       "4. 8\n",
       "5. 8\n",
       "6. 8\n",
       "7. 8\n",
       "8. 8\n",
       "9. 8\n",
       "10. 8\n",
       "\n",
       "\n"
      ],
      "text/plain": [
       " [1] 8 8 8 8 8 8 8 8 8 8"
      ]
     },
     "metadata": {},
     "output_type": "display_data"
    },
    {
     "data": {
      "text/html": [
       "<style>\n",
       ".list-inline {list-style: none; margin:0; padding: 0}\n",
       ".list-inline>li {display: inline-block}\n",
       ".list-inline>li:not(:last-child)::after {content: \"\\00b7\"; padding: 0 .5ex}\n",
       "</style>\n",
       "<ol class=list-inline><li>'yes'</li><li>'yes'</li><li>'yes'</li><li>'yes'</li><li>'yes'</li></ol>\n"
      ],
      "text/latex": [
       "\\begin{enumerate*}\n",
       "\\item 'yes'\n",
       "\\item 'yes'\n",
       "\\item 'yes'\n",
       "\\item 'yes'\n",
       "\\item 'yes'\n",
       "\\end{enumerate*}\n"
      ],
      "text/markdown": [
       "1. 'yes'\n",
       "2. 'yes'\n",
       "3. 'yes'\n",
       "4. 'yes'\n",
       "5. 'yes'\n",
       "\n",
       "\n"
      ],
      "text/plain": [
       "[1] \"yes\" \"yes\" \"yes\" \"yes\" \"yes\""
      ]
     },
     "metadata": {},
     "output_type": "display_data"
    },
    {
     "data": {
      "text/html": [
       "'Yes'"
      ],
      "text/latex": [
       "'Yes'"
      ],
      "text/markdown": [
       "'Yes'"
      ],
      "text/plain": [
       "[1] \"Yes\""
      ]
     },
     "metadata": {},
     "output_type": "display_data"
    }
   ],
   "source": [
    "#repeating\n",
    "\n",
    "re <-rep(8,10)\n",
    "re\n",
    "\n",
    "re_str<-rep(\"yes\",5)\n",
    "re_str\n"
   ]
  },
  {
   "cell_type": "code",
   "execution_count": 15,
   "id": "fe26ef77",
   "metadata": {
    "vscode": {
     "languageId": "r"
    }
   },
   "outputs": [
    {
     "data": {
      "text/html": [
       "<style>\n",
       ".list-inline {list-style: none; margin:0; padding: 0}\n",
       ".list-inline>li {display: inline-block}\n",
       ".list-inline>li:not(:last-child)::after {content: \"\\00b7\"; padding: 0 .5ex}\n",
       "</style>\n",
       "<ol class=list-inline><li>0.0778802735731006</li><li>0.634679559152573</li><li>0.960431111743674</li><li>0.461239144671708</li><li>0.0825347064528614</li></ol>\n"
      ],
      "text/latex": [
       "\\begin{enumerate*}\n",
       "\\item 0.0778802735731006\n",
       "\\item 0.634679559152573\n",
       "\\item 0.960431111743674\n",
       "\\item 0.461239144671708\n",
       "\\item 0.0825347064528614\n",
       "\\end{enumerate*}\n"
      ],
      "text/markdown": [
       "1. 0.0778802735731006\n",
       "2. 0.634679559152573\n",
       "3. 0.960431111743674\n",
       "4. 0.461239144671708\n",
       "5. 0.0825347064528614\n",
       "\n",
       "\n"
      ],
      "text/plain": [
       "[1] 0.07788027 0.63467956 0.96043111 0.46123914 0.08253471"
      ]
     },
     "metadata": {},
     "output_type": "display_data"
    },
    {
     "data": {
      "text/html": [
       "<style>\n",
       ".list-inline {list-style: none; margin:0; padding: 0}\n",
       ".list-inline>li {display: inline-block}\n",
       ".list-inline>li:not(:last-child)::after {content: \"\\00b7\"; padding: 0 .5ex}\n",
       "</style>\n",
       "<ol class=list-inline><li>28.3877054625191</li><li>20.9858574252576</li><li>25.6295493920334</li><li>29.2320512188599</li><li>29.6015768311918</li></ol>\n"
      ],
      "text/latex": [
       "\\begin{enumerate*}\n",
       "\\item 28.3877054625191\n",
       "\\item 20.9858574252576\n",
       "\\item 25.6295493920334\n",
       "\\item 29.2320512188599\n",
       "\\item 29.6015768311918\n",
       "\\end{enumerate*}\n"
      ],
      "text/markdown": [
       "1. 28.3877054625191\n",
       "2. 20.9858574252576\n",
       "3. 25.6295493920334\n",
       "4. 29.2320512188599\n",
       "5. 29.6015768311918\n",
       "\n",
       "\n"
      ],
      "text/plain": [
       "[1] 28.38771 20.98586 25.62955 29.23205 29.60158"
      ]
     },
     "metadata": {},
     "output_type": "display_data"
    },
    {
     "data": {
      "text/html": [
       "<style>\n",
       ".list-inline {list-style: none; margin:0; padding: 0}\n",
       ".list-inline>li {display: inline-block}\n",
       ".list-inline>li:not(:last-child)::after {content: \"\\00b7\"; padding: 0 .5ex}\n",
       "</style>\n",
       "<ol class=list-inline><li>30</li><li>20</li><li>21</li><li>20</li><li>29</li></ol>\n"
      ],
      "text/latex": [
       "\\begin{enumerate*}\n",
       "\\item 30\n",
       "\\item 20\n",
       "\\item 21\n",
       "\\item 20\n",
       "\\item 29\n",
       "\\end{enumerate*}\n"
      ],
      "text/markdown": [
       "1. 30\n",
       "2. 20\n",
       "3. 21\n",
       "4. 20\n",
       "5. 29\n",
       "\n",
       "\n"
      ],
      "text/plain": [
       "[1] 30 20 21 20 29"
      ]
     },
     "metadata": {},
     "output_type": "display_data"
    }
   ],
   "source": [
    "#random\n",
    "\n",
    "rand<-runif(5)\n",
    "rand\n",
    "\n",
    "rand1<-runif(5,20,30)\n",
    "rand1\n",
    "\n",
    "round1 <-round(runif(5,20,30))\n",
    "round1\n"
   ]
  },
  {
   "cell_type": "markdown",
   "id": "76f1e268",
   "metadata": {},
   "source": [
    "DATA FRAMES"
   ]
  },
  {
   "cell_type": "code",
   "execution_count": 19,
   "id": "429068ab",
   "metadata": {
    "vscode": {
     "languageId": "r"
    }
   },
   "outputs": [
    {
     "data": {
      "text/html": [
       "<table class=\"dataframe\">\n",
       "<caption>A data.frame: 5 × 4</caption>\n",
       "<thead>\n",
       "\t<tr><th scope=col>name</th><th scope=col>age</th><th scope=col>gender</th><th scope=col>gender_is_M</th></tr>\n",
       "\t<tr><th scope=col>&lt;chr&gt;</th><th scope=col>&lt;chr&gt;</th><th scope=col>&lt;chr&gt;</th><th scope=col>&lt;chr&gt;</th></tr>\n",
       "</thead>\n",
       "<tbody>\n",
       "\t<tr><td>Luffy  </td><td>19</td><td>M</td><td>TRUE </td></tr>\n",
       "\t<tr><td>Chopper</td><td>17</td><td>M</td><td>TRUE </td></tr>\n",
       "\t<tr><td>Zoro   </td><td>21</td><td>M</td><td>TRUE </td></tr>\n",
       "\t<tr><td>Nami   </td><td>20</td><td>F</td><td>FALSE</td></tr>\n",
       "\t<tr><td>Jinbe  </td><td>37</td><td>M</td><td>TRUE </td></tr>\n",
       "</tbody>\n",
       "</table>\n"
      ],
      "text/latex": [
       "A data.frame: 5 × 4\n",
       "\\begin{tabular}{llll}\n",
       " name & age & gender & gender\\_is\\_M\\\\\n",
       " <chr> & <chr> & <chr> & <chr>\\\\\n",
       "\\hline\n",
       "\t Luffy   & 19 & M & TRUE \\\\\n",
       "\t Chopper & 17 & M & TRUE \\\\\n",
       "\t Zoro    & 21 & M & TRUE \\\\\n",
       "\t Nami    & 20 & F & FALSE\\\\\n",
       "\t Jinbe   & 37 & M & TRUE \\\\\n",
       "\\end{tabular}\n"
      ],
      "text/markdown": [
       "\n",
       "A data.frame: 5 × 4\n",
       "\n",
       "| name &lt;chr&gt; | age &lt;chr&gt; | gender &lt;chr&gt; | gender_is_M &lt;chr&gt; |\n",
       "|---|---|---|---|\n",
       "| Luffy   | 19 | M | TRUE  |\n",
       "| Chopper | 17 | M | TRUE  |\n",
       "| Zoro    | 21 | M | TRUE  |\n",
       "| Nami    | 20 | F | FALSE |\n",
       "| Jinbe   | 37 | M | TRUE  |\n",
       "\n"
      ],
      "text/plain": [
       "  name    age gender gender_is_M\n",
       "1 Luffy   19  M      TRUE       \n",
       "2 Chopper 17  M      TRUE       \n",
       "3 Zoro    21  M      TRUE       \n",
       "4 Nami    20  F      FALSE      \n",
       "5 Jinbe   37  M      TRUE       "
      ]
     },
     "metadata": {},
     "output_type": "display_data"
    }
   ],
   "source": [
    "df = data.frame(cbind(name,age,gender,gender_is_M))\n",
    "df\n",
    "fix(df)"
   ]
  },
  {
   "cell_type": "code",
   "execution_count": null,
   "id": "eca44da7",
   "metadata": {
    "vscode": {
     "languageId": "r"
    }
   },
   "outputs": [
    {
     "data": {
      "text/html": [
       "<table class=\"dataframe\">\n",
       "<caption>A data.frame: 9 × 4</caption>\n",
       "<thead>\n",
       "\t<tr><th></th><th scope=col>name</th><th scope=col>age</th><th scope=col>gender</th><th scope=col>gender_is_M</th></tr>\n",
       "\t<tr><th></th><th scope=col>&lt;chr&gt;</th><th scope=col>&lt;chr&gt;</th><th scope=col>&lt;chr&gt;</th><th scope=col>&lt;chr&gt;</th></tr>\n",
       "</thead>\n",
       "<tbody>\n",
       "\t<tr><th scope=row>1</th><td>Luffy  </td><td>19 </td><td>M</td><td>TRUE </td></tr>\n",
       "\t<tr><th scope=row>2</th><td>Chopper</td><td>17 </td><td>M</td><td>TRUE </td></tr>\n",
       "\t<tr><th scope=row>3</th><td>Zoro   </td><td>21 </td><td>M</td><td>TRUE </td></tr>\n",
       "\t<tr><th scope=row>4</th><td>Nami   </td><td>20 </td><td>F</td><td>FALSE</td></tr>\n",
       "\t<tr><th scope=row>5</th><td>Jinbe  </td><td>37 </td><td>M</td><td>TRUE </td></tr>\n",
       "\t<tr><th scope=row>6</th><td>Robin  </td><td>32 </td><td>F</td><td>FALSE</td></tr>\n",
       "\t<tr><th scope=row>7</th><td>Sanji  </td><td>21 </td><td>M</td><td>TRUE </td></tr>\n",
       "\t<tr><th scope=row>8</th><td>Brook  </td><td>106</td><td>M</td><td>TRUE </td></tr>\n",
       "\t<tr><th scope=row>9</th><td>Ussop  </td><td>19 </td><td>M</td><td>TRUE </td></tr>\n",
       "</tbody>\n",
       "</table>\n"
      ],
      "text/latex": [
       "A data.frame: 9 × 4\n",
       "\\begin{tabular}{r|llll}\n",
       "  & name & age & gender & gender\\_is\\_M\\\\\n",
       "  & <chr> & <chr> & <chr> & <chr>\\\\\n",
       "\\hline\n",
       "\t1 & Luffy   & 19  & M & TRUE \\\\\n",
       "\t2 & Chopper & 17  & M & TRUE \\\\\n",
       "\t3 & Zoro    & 21  & M & TRUE \\\\\n",
       "\t4 & Nami    & 20  & F & FALSE\\\\\n",
       "\t5 & Jinbe   & 37  & M & TRUE \\\\\n",
       "\t6 & Robin   & 32  & F & FALSE\\\\\n",
       "\t7 & Sanji   & 21  & M & TRUE \\\\\n",
       "\t8 & Brook   & 106 & M & TRUE \\\\\n",
       "\t9 & Ussop   & 19  & M & TRUE \\\\\n",
       "\\end{tabular}\n"
      ],
      "text/markdown": [
       "\n",
       "A data.frame: 9 × 4\n",
       "\n",
       "| <!--/--> | name &lt;chr&gt; | age &lt;chr&gt; | gender &lt;chr&gt; | gender_is_M &lt;chr&gt; |\n",
       "|---|---|---|---|---|\n",
       "| 1 | Luffy   | 19  | M | TRUE  |\n",
       "| 2 | Chopper | 17  | M | TRUE  |\n",
       "| 3 | Zoro    | 21  | M | TRUE  |\n",
       "| 4 | Nami    | 20  | F | FALSE |\n",
       "| 5 | Jinbe   | 37  | M | TRUE  |\n",
       "| 6 | Robin   | 32  | F | FALSE |\n",
       "| 7 | Sanji   | 21  | M | TRUE  |\n",
       "| 8 | Brook   | 106 | M | TRUE  |\n",
       "| 9 | Ussop   | 19  | M | TRUE  |\n",
       "\n"
      ],
      "text/plain": [
       "  name    age gender gender_is_M\n",
       "1 Luffy   19  M      TRUE       \n",
       "2 Chopper 17  M      TRUE       \n",
       "3 Zoro    21  M      TRUE       \n",
       "4 Nami    20  F      FALSE      \n",
       "5 Jinbe   37  M      TRUE       \n",
       "6 Robin   32  F      FALSE      \n",
       "7 Sanji   21  M      TRUE       \n",
       "8 Brook   106 M      TRUE       \n",
       "9 Ussop   19  M      TRUE       "
      ]
     },
     "metadata": {},
     "output_type": "display_data"
    }
   ],
   "source": [
    "#inserted with fix() function\n",
    "df"
   ]
  },
  {
   "cell_type": "code",
   "execution_count": 28,
   "id": "5d97c1e6",
   "metadata": {
    "vscode": {
     "languageId": "r"
    }
   },
   "outputs": [
    {
     "data": {
      "text/html": [
       "<style>\n",
       ".list-inline {list-style: none; margin:0; padding: 0}\n",
       ".list-inline>li {display: inline-block}\n",
       ".list-inline>li:not(:last-child)::after {content: \"\\00b7\"; padding: 0 .5ex}\n",
       "</style>\n",
       "<ol class=list-inline><li>'Luffy'</li><li>'Chopper'</li><li>'Zoro'</li><li>'Nami'</li><li>'Jinbe'</li><li>'Robin'</li><li>'Sanji'</li><li>'Brook'</li><li>'Ussop'</li></ol>\n"
      ],
      "text/latex": [
       "\\begin{enumerate*}\n",
       "\\item 'Luffy'\n",
       "\\item 'Chopper'\n",
       "\\item 'Zoro'\n",
       "\\item 'Nami'\n",
       "\\item 'Jinbe'\n",
       "\\item 'Robin'\n",
       "\\item 'Sanji'\n",
       "\\item 'Brook'\n",
       "\\item 'Ussop'\n",
       "\\end{enumerate*}\n"
      ],
      "text/markdown": [
       "1. 'Luffy'\n",
       "2. 'Chopper'\n",
       "3. 'Zoro'\n",
       "4. 'Nami'\n",
       "5. 'Jinbe'\n",
       "6. 'Robin'\n",
       "7. 'Sanji'\n",
       "8. 'Brook'\n",
       "9. 'Ussop'\n",
       "\n",
       "\n"
      ],
      "text/plain": [
       "[1] \"Luffy\"   \"Chopper\" \"Zoro\"    \"Nami\"    \"Jinbe\"   \"Robin\"   \"Sanji\"  \n",
       "[8] \"Brook\"   \"Ussop\"  "
      ]
     },
     "metadata": {},
     "output_type": "display_data"
    },
    {
     "data": {
      "text/html": [
       "<style>\n",
       ".list-inline {list-style: none; margin:0; padding: 0}\n",
       ".list-inline>li {display: inline-block}\n",
       ".list-inline>li:not(:last-child)::after {content: \"\\00b7\"; padding: 0 .5ex}\n",
       "</style>\n",
       "<ol class=list-inline><li>'M'</li><li>'M'</li><li>'M'</li><li>'F'</li><li>'M'</li><li>'F'</li><li>'M'</li><li>'M'</li><li>'M'</li></ol>\n"
      ],
      "text/latex": [
       "\\begin{enumerate*}\n",
       "\\item 'M'\n",
       "\\item 'M'\n",
       "\\item 'M'\n",
       "\\item 'F'\n",
       "\\item 'M'\n",
       "\\item 'F'\n",
       "\\item 'M'\n",
       "\\item 'M'\n",
       "\\item 'M'\n",
       "\\end{enumerate*}\n"
      ],
      "text/markdown": [
       "1. 'M'\n",
       "2. 'M'\n",
       "3. 'M'\n",
       "4. 'F'\n",
       "5. 'M'\n",
       "6. 'F'\n",
       "7. 'M'\n",
       "8. 'M'\n",
       "9. 'M'\n",
       "\n",
       "\n"
      ],
      "text/plain": [
       "[1] \"M\" \"M\" \"M\" \"F\" \"M\" \"F\" \"M\" \"M\" \"M\""
      ]
     },
     "metadata": {},
     "output_type": "display_data"
    },
    {
     "name": "stdout",
     "output_type": "stream",
     "text": [
      "Selective columns range"
     ]
    },
    {
     "data": {
      "text/html": [
       "<table class=\"dataframe\">\n",
       "<caption>A data.frame: 9 × 3</caption>\n",
       "<thead>\n",
       "\t<tr><th></th><th scope=col>name</th><th scope=col>age</th><th scope=col>gender</th></tr>\n",
       "\t<tr><th></th><th scope=col>&lt;chr&gt;</th><th scope=col>&lt;chr&gt;</th><th scope=col>&lt;chr&gt;</th></tr>\n",
       "</thead>\n",
       "<tbody>\n",
       "\t<tr><th scope=row>1</th><td>Luffy  </td><td>19 </td><td>M</td></tr>\n",
       "\t<tr><th scope=row>2</th><td>Chopper</td><td>17 </td><td>M</td></tr>\n",
       "\t<tr><th scope=row>3</th><td>Zoro   </td><td>21 </td><td>M</td></tr>\n",
       "\t<tr><th scope=row>4</th><td>Nami   </td><td>20 </td><td>F</td></tr>\n",
       "\t<tr><th scope=row>5</th><td>Jinbe  </td><td>37 </td><td>M</td></tr>\n",
       "\t<tr><th scope=row>6</th><td>Robin  </td><td>32 </td><td>F</td></tr>\n",
       "\t<tr><th scope=row>7</th><td>Sanji  </td><td>21 </td><td>M</td></tr>\n",
       "\t<tr><th scope=row>8</th><td>Brook  </td><td>106</td><td>M</td></tr>\n",
       "\t<tr><th scope=row>9</th><td>Ussop  </td><td>19 </td><td>M</td></tr>\n",
       "</tbody>\n",
       "</table>\n"
      ],
      "text/latex": [
       "A data.frame: 9 × 3\n",
       "\\begin{tabular}{r|lll}\n",
       "  & name & age & gender\\\\\n",
       "  & <chr> & <chr> & <chr>\\\\\n",
       "\\hline\n",
       "\t1 & Luffy   & 19  & M\\\\\n",
       "\t2 & Chopper & 17  & M\\\\\n",
       "\t3 & Zoro    & 21  & M\\\\\n",
       "\t4 & Nami    & 20  & F\\\\\n",
       "\t5 & Jinbe   & 37  & M\\\\\n",
       "\t6 & Robin   & 32  & F\\\\\n",
       "\t7 & Sanji   & 21  & M\\\\\n",
       "\t8 & Brook   & 106 & M\\\\\n",
       "\t9 & Ussop   & 19  & M\\\\\n",
       "\\end{tabular}\n"
      ],
      "text/markdown": [
       "\n",
       "A data.frame: 9 × 3\n",
       "\n",
       "| <!--/--> | name &lt;chr&gt; | age &lt;chr&gt; | gender &lt;chr&gt; |\n",
       "|---|---|---|---|\n",
       "| 1 | Luffy   | 19  | M |\n",
       "| 2 | Chopper | 17  | M |\n",
       "| 3 | Zoro    | 21  | M |\n",
       "| 4 | Nami    | 20  | F |\n",
       "| 5 | Jinbe   | 37  | M |\n",
       "| 6 | Robin   | 32  | F |\n",
       "| 7 | Sanji   | 21  | M |\n",
       "| 8 | Brook   | 106 | M |\n",
       "| 9 | Ussop   | 19  | M |\n",
       "\n"
      ],
      "text/plain": [
       "  name    age gender\n",
       "1 Luffy   19  M     \n",
       "2 Chopper 17  M     \n",
       "3 Zoro    21  M     \n",
       "4 Nami    20  F     \n",
       "5 Jinbe   37  M     \n",
       "6 Robin   32  F     \n",
       "7 Sanji   21  M     \n",
       "8 Brook   106 M     \n",
       "9 Ussop   19  M     "
      ]
     },
     "metadata": {},
     "output_type": "display_data"
    },
    {
     "name": "stdout",
     "output_type": "stream",
     "text": [
      "Selective columns "
     ]
    },
    {
     "data": {
      "text/html": [
       "<table class=\"dataframe\">\n",
       "<caption>A data.frame: 9 × 2</caption>\n",
       "<thead>\n",
       "\t<tr><th></th><th scope=col>name</th><th scope=col>gender</th></tr>\n",
       "\t<tr><th></th><th scope=col>&lt;chr&gt;</th><th scope=col>&lt;chr&gt;</th></tr>\n",
       "</thead>\n",
       "<tbody>\n",
       "\t<tr><th scope=row>1</th><td>Luffy  </td><td>M</td></tr>\n",
       "\t<tr><th scope=row>2</th><td>Chopper</td><td>M</td></tr>\n",
       "\t<tr><th scope=row>3</th><td>Zoro   </td><td>M</td></tr>\n",
       "\t<tr><th scope=row>4</th><td>Nami   </td><td>F</td></tr>\n",
       "\t<tr><th scope=row>5</th><td>Jinbe  </td><td>M</td></tr>\n",
       "\t<tr><th scope=row>6</th><td>Robin  </td><td>F</td></tr>\n",
       "\t<tr><th scope=row>7</th><td>Sanji  </td><td>M</td></tr>\n",
       "\t<tr><th scope=row>8</th><td>Brook  </td><td>M</td></tr>\n",
       "\t<tr><th scope=row>9</th><td>Ussop  </td><td>M</td></tr>\n",
       "</tbody>\n",
       "</table>\n"
      ],
      "text/latex": [
       "A data.frame: 9 × 2\n",
       "\\begin{tabular}{r|ll}\n",
       "  & name & gender\\\\\n",
       "  & <chr> & <chr>\\\\\n",
       "\\hline\n",
       "\t1 & Luffy   & M\\\\\n",
       "\t2 & Chopper & M\\\\\n",
       "\t3 & Zoro    & M\\\\\n",
       "\t4 & Nami    & F\\\\\n",
       "\t5 & Jinbe   & M\\\\\n",
       "\t6 & Robin   & F\\\\\n",
       "\t7 & Sanji   & M\\\\\n",
       "\t8 & Brook   & M\\\\\n",
       "\t9 & Ussop   & M\\\\\n",
       "\\end{tabular}\n"
      ],
      "text/markdown": [
       "\n",
       "A data.frame: 9 × 2\n",
       "\n",
       "| <!--/--> | name &lt;chr&gt; | gender &lt;chr&gt; |\n",
       "|---|---|---|\n",
       "| 1 | Luffy   | M |\n",
       "| 2 | Chopper | M |\n",
       "| 3 | Zoro    | M |\n",
       "| 4 | Nami    | F |\n",
       "| 5 | Jinbe   | M |\n",
       "| 6 | Robin   | F |\n",
       "| 7 | Sanji   | M |\n",
       "| 8 | Brook   | M |\n",
       "| 9 | Ussop   | M |\n",
       "\n"
      ],
      "text/plain": [
       "  name    gender\n",
       "1 Luffy   M     \n",
       "2 Chopper M     \n",
       "3 Zoro    M     \n",
       "4 Nami    F     \n",
       "5 Jinbe   M     \n",
       "6 Robin   F     \n",
       "7 Sanji   M     \n",
       "8 Brook   M     \n",
       "9 Ussop   M     "
      ]
     },
     "metadata": {},
     "output_type": "display_data"
    }
   ],
   "source": [
    "#specific elements of df\n",
    "\n",
    "df$name\n",
    "df$gender\n",
    "\n",
    "#specific columns range\n",
    "cat('Selective columns range')\n",
    "df[1:3]\n",
    "\n",
    "#specific columns\n",
    "cat('Selective columns ')\n",
    "df[c(\"name\",\"gender\")]\n"
   ]
  },
  {
   "cell_type": "markdown",
   "id": "f4ff8f3b",
   "metadata": {},
   "source": [
    "MATRIX AND ITS OPERATIONS"
   ]
  },
  {
   "cell_type": "code",
   "execution_count": 31,
   "id": "93c05e99",
   "metadata": {
    "vscode": {
     "languageId": "r"
    }
   },
   "outputs": [
    {
     "data": {
      "text/html": [
       "<table class=\"dataframe\">\n",
       "<caption>A matrix: 2 × 4 of type int</caption>\n",
       "<thead>\n",
       "\t<tr><th></th><th scope=col>w</th><th scope=col>x</th><th scope=col>y</th><th scope=col>z</th></tr>\n",
       "</thead>\n",
       "<tbody>\n",
       "\t<tr><th scope=row>I</th><td>1</td><td>2</td><td>3</td><td>4</td></tr>\n",
       "\t<tr><th scope=row>II</th><td>5</td><td>6</td><td>7</td><td>8</td></tr>\n",
       "</tbody>\n",
       "</table>\n"
      ],
      "text/latex": [
       "A matrix: 2 × 4 of type int\n",
       "\\begin{tabular}{r|llll}\n",
       "  & w & x & y & z\\\\\n",
       "\\hline\n",
       "\tI & 1 & 2 & 3 & 4\\\\\n",
       "\tII & 5 & 6 & 7 & 8\\\\\n",
       "\\end{tabular}\n"
      ],
      "text/markdown": [
       "\n",
       "A matrix: 2 × 4 of type int\n",
       "\n",
       "| <!--/--> | w | x | y | z |\n",
       "|---|---|---|---|---|\n",
       "| I | 1 | 2 | 3 | 4 |\n",
       "| II | 5 | 6 | 7 | 8 |\n",
       "\n"
      ],
      "text/plain": [
       "   w x y z\n",
       "I  1 2 3 4\n",
       "II 5 6 7 8"
      ]
     },
     "metadata": {},
     "output_type": "display_data"
    }
   ],
   "source": [
    "a <-matrix(1:8,nrow = 2,ncol = 4, byrow = TRUE,dimnames = list(c('I',\"II\"),c('w','x','y','z')))\n",
    "a"
   ]
  },
  {
   "cell_type": "code",
   "execution_count": 33,
   "id": "1af94765",
   "metadata": {
    "vscode": {
     "languageId": "r"
    }
   },
   "outputs": [
    {
     "data": {
      "text/html": [
       "<table class=\"dataframe\">\n",
       "<caption>A matrix: 4 × 2 of type dbl</caption>\n",
       "<tbody>\n",
       "\t<tr><td>1</td><td>5</td></tr>\n",
       "\t<tr><td>2</td><td>6</td></tr>\n",
       "\t<tr><td>3</td><td>7</td></tr>\n",
       "\t<tr><td>4</td><td>8</td></tr>\n",
       "</tbody>\n",
       "</table>\n"
      ],
      "text/latex": [
       "A matrix: 4 × 2 of type dbl\n",
       "\\begin{tabular}{ll}\n",
       "\t 1 & 5\\\\\n",
       "\t 2 & 6\\\\\n",
       "\t 3 & 7\\\\\n",
       "\t 4 & 8\\\\\n",
       "\\end{tabular}\n"
      ],
      "text/markdown": [
       "\n",
       "A matrix: 4 × 2 of type dbl\n",
       "\n",
       "| 1 | 5 |\n",
       "| 2 | 6 |\n",
       "| 3 | 7 |\n",
       "| 4 | 8 |\n",
       "\n"
      ],
      "text/plain": [
       "     [,1] [,2]\n",
       "[1,] 1    5   \n",
       "[2,] 2    6   \n",
       "[3,] 3    7   \n",
       "[4,] 4    8   "
      ]
     },
     "metadata": {},
     "output_type": "display_data"
    }
   ],
   "source": [
    "values = c(1,2,3,4,5,6,7,8)\n",
    "matrix1 = matrix(values,nrow = 4,ncol = 2)\n",
    "matrix1"
   ]
  },
  {
   "cell_type": "code",
   "execution_count": null,
   "id": "a5a1f1ea",
   "metadata": {
    "vscode": {
     "languageId": "r"
    }
   },
   "outputs": [
    {
     "data": {
      "text/html": [
       "<style>\n",
       ".dl-inline {width: auto; margin:0; padding: 0}\n",
       ".dl-inline>dt, .dl-inline>dd {float: none; width: auto; display: inline-block}\n",
       ".dl-inline>dt::after {content: \":\\0020\"; padding-right: .5ex}\n",
       ".dl-inline>dt:not(:first-of-type) {padding-left: .5ex}\n",
       "</style><dl class=dl-inline><dt>w</dt><dd>1</dd><dt>x</dt><dd>2</dd><dt>y</dt><dd>3</dd><dt>z</dt><dd>4</dd></dl>\n"
      ],
      "text/latex": [
       "\\begin{description*}\n",
       "\\item[w] 1\n",
       "\\item[x] 2\n",
       "\\item[y] 3\n",
       "\\item[z] 4\n",
       "\\end{description*}\n"
      ],
      "text/markdown": [
       "w\n",
       ":   1x\n",
       ":   2y\n",
       ":   3z\n",
       ":   4\n",
       "\n"
      ],
      "text/plain": [
       "w x y z \n",
       "1 2 3 4 "
      ]
     },
     "metadata": {},
     "output_type": "display_data"
    },
    {
     "data": {
      "text/html": [
       "<style>\n",
       ".dl-inline {width: auto; margin:0; padding: 0}\n",
       ".dl-inline>dt, .dl-inline>dd {float: none; width: auto; display: inline-block}\n",
       ".dl-inline>dt::after {content: \":\\0020\"; padding-right: .5ex}\n",
       ".dl-inline>dt:not(:first-of-type) {padding-left: .5ex}\n",
       "</style><dl class=dl-inline><dt>I</dt><dd>1</dd><dt>II</dt><dd>5</dd></dl>\n"
      ],
      "text/latex": [
       "\\begin{description*}\n",
       "\\item[I] 1\n",
       "\\item[II] 5\n",
       "\\end{description*}\n"
      ],
      "text/markdown": [
       "I\n",
       ":   1II\n",
       ":   5\n",
       "\n"
      ],
      "text/plain": [
       " I II \n",
       " 1  5 "
      ]
     },
     "metadata": {},
     "output_type": "display_data"
    }
   ],
   "source": [
    "a[1,] #row index\n",
    "a[,1] #col index"
   ]
  },
  {
   "cell_type": "code",
   "execution_count": null,
   "id": "75a93138",
   "metadata": {
    "vscode": {
     "languageId": "r"
    }
   },
   "outputs": [
    {
     "data": {
      "text/html": [
       "0"
      ],
      "text/latex": [
       "0"
      ],
      "text/markdown": [
       "0"
      ],
      "text/plain": [
       "[1] 0"
      ]
     },
     "metadata": {},
     "output_type": "display_data"
    }
   ],
   "source": [
    "x = matrix(2:17,nrow = 4,ncol = 4,byrow = FALSE)\n",
    "det(x) #determinant"
   ]
  },
  {
   "cell_type": "code",
   "execution_count": 51,
   "id": "930aa663",
   "metadata": {
    "vscode": {
     "languageId": "r"
    }
   },
   "outputs": [
    {
     "data": {
      "text/html": [
       "<table class=\"dataframe\">\n",
       "<caption>A matrix: 4 × 4 of type int</caption>\n",
       "<tbody>\n",
       "\t<tr><td> 2</td><td> 3</td><td> 4</td><td> 5</td></tr>\n",
       "\t<tr><td> 6</td><td> 7</td><td> 8</td><td> 9</td></tr>\n",
       "\t<tr><td>10</td><td>11</td><td>12</td><td>13</td></tr>\n",
       "\t<tr><td>14</td><td>15</td><td>16</td><td>17</td></tr>\n",
       "</tbody>\n",
       "</table>\n"
      ],
      "text/latex": [
       "A matrix: 4 × 4 of type int\n",
       "\\begin{tabular}{llll}\n",
       "\t  2 &  3 &  4 &  5\\\\\n",
       "\t  6 &  7 &  8 &  9\\\\\n",
       "\t 10 & 11 & 12 & 13\\\\\n",
       "\t 14 & 15 & 16 & 17\\\\\n",
       "\\end{tabular}\n"
      ],
      "text/markdown": [
       "\n",
       "A matrix: 4 × 4 of type int\n",
       "\n",
       "|  2 |  3 |  4 |  5 |\n",
       "|  6 |  7 |  8 |  9 |\n",
       "| 10 | 11 | 12 | 13 |\n",
       "| 14 | 15 | 16 | 17 |\n",
       "\n"
      ],
      "text/plain": [
       "     [,1] [,2] [,3] [,4]\n",
       "[1,]  2    3    4    5  \n",
       "[2,]  6    7    8    9  \n",
       "[3,] 10   11   12   13  \n",
       "[4,] 14   15   16   17  "
      ]
     },
     "metadata": {},
     "output_type": "display_data"
    }
   ],
   "source": [
    "y<-t(x) #transpose\n",
    "y"
   ]
  },
  {
   "cell_type": "code",
   "execution_count": 54,
   "id": "863eb929",
   "metadata": {
    "vscode": {
     "languageId": "r"
    }
   },
   "outputs": [
    {
     "data": {
      "text/html": [
       "<table class=\"dataframe\">\n",
       "<caption>A matrix: 4 × 4 of type int</caption>\n",
       "<tbody>\n",
       "\t<tr><td> 0</td><td> 3</td><td> 6</td><td>9</td></tr>\n",
       "\t<tr><td>-3</td><td> 0</td><td> 3</td><td>6</td></tr>\n",
       "\t<tr><td>-6</td><td>-3</td><td> 0</td><td>3</td></tr>\n",
       "\t<tr><td>-9</td><td>-6</td><td>-3</td><td>0</td></tr>\n",
       "</tbody>\n",
       "</table>\n"
      ],
      "text/latex": [
       "A matrix: 4 × 4 of type int\n",
       "\\begin{tabular}{llll}\n",
       "\t  0 &  3 &  6 & 9\\\\\n",
       "\t -3 &  0 &  3 & 6\\\\\n",
       "\t -6 & -3 &  0 & 3\\\\\n",
       "\t -9 & -6 & -3 & 0\\\\\n",
       "\\end{tabular}\n"
      ],
      "text/markdown": [
       "\n",
       "A matrix: 4 × 4 of type int\n",
       "\n",
       "|  0 |  3 |  6 | 9 |\n",
       "| -3 |  0 |  3 | 6 |\n",
       "| -6 | -3 |  0 | 3 |\n",
       "| -9 | -6 | -3 | 0 |\n",
       "\n"
      ],
      "text/plain": [
       "     [,1] [,2] [,3] [,4]\n",
       "[1,]  0    3    6   9   \n",
       "[2,] -3    0    3   6   \n",
       "[3,] -6   -3    0   3   \n",
       "[4,] -9   -6   -3   0   "
      ]
     },
     "metadata": {},
     "output_type": "display_data"
    },
    {
     "data": {
      "text/html": [
       "<table class=\"dataframe\">\n",
       "<caption>A matrix: 4 × 4 of type int</caption>\n",
       "<tbody>\n",
       "\t<tr><td> 4</td><td> 9</td><td>14</td><td>19</td></tr>\n",
       "\t<tr><td> 9</td><td>14</td><td>19</td><td>24</td></tr>\n",
       "\t<tr><td>14</td><td>19</td><td>24</td><td>29</td></tr>\n",
       "\t<tr><td>19</td><td>24</td><td>29</td><td>34</td></tr>\n",
       "</tbody>\n",
       "</table>\n"
      ],
      "text/latex": [
       "A matrix: 4 × 4 of type int\n",
       "\\begin{tabular}{llll}\n",
       "\t  4 &  9 & 14 & 19\\\\\n",
       "\t  9 & 14 & 19 & 24\\\\\n",
       "\t 14 & 19 & 24 & 29\\\\\n",
       "\t 19 & 24 & 29 & 34\\\\\n",
       "\\end{tabular}\n"
      ],
      "text/markdown": [
       "\n",
       "A matrix: 4 × 4 of type int\n",
       "\n",
       "|  4 |  9 | 14 | 19 |\n",
       "|  9 | 14 | 19 | 24 |\n",
       "| 14 | 19 | 24 | 29 |\n",
       "| 19 | 24 | 29 | 34 |\n",
       "\n"
      ],
      "text/plain": [
       "     [,1] [,2] [,3] [,4]\n",
       "[1,]  4    9   14   19  \n",
       "[2,]  9   14   19   24  \n",
       "[3,] 14   19   24   29  \n",
       "[4,] 19   24   29   34  "
      ]
     },
     "metadata": {},
     "output_type": "display_data"
    }
   ],
   "source": [
    "x-y # matrix sub\n",
    "x+y # matrix add"
   ]
  },
  {
   "cell_type": "code",
   "execution_count": null,
   "id": "1d8dcac6",
   "metadata": {
    "vscode": {
     "languageId": "r"
    }
   },
   "outputs": [
    {
     "data": {
      "text/html": [
       "<table class=\"dataframe\">\n",
       "<caption>A matrix: 2 × 4 of type dbl</caption>\n",
       "<tbody>\n",
       "\t<tr><th scope=row>I</th><td>40</td><td> 80</td><td>120</td><td>160</td></tr>\n",
       "\t<tr><th scope=row>II</th><td>96</td><td>200</td><td>304</td><td>408</td></tr>\n",
       "</tbody>\n",
       "</table>\n"
      ],
      "text/latex": [
       "A matrix: 2 × 4 of type dbl\n",
       "\\begin{tabular}{r|llll}\n",
       "\tI & 40 &  80 & 120 & 160\\\\\n",
       "\tII & 96 & 200 & 304 & 408\\\\\n",
       "\\end{tabular}\n"
      ],
      "text/markdown": [
       "\n",
       "A matrix: 2 × 4 of type dbl\n",
       "\n",
       "| I | 40 |  80 | 120 | 160 |\n",
       "| II | 96 | 200 | 304 | 408 |\n",
       "\n"
      ],
      "text/plain": [
       "   [,1] [,2] [,3] [,4]\n",
       "I  40    80  120  160 \n",
       "II 96   200  304  408 "
      ]
     },
     "metadata": {},
     "output_type": "display_data"
    }
   ],
   "source": [
    "z = a%*%x # matrix mult\n",
    "z"
   ]
  },
  {
   "cell_type": "code",
   "execution_count": null,
   "id": "2dedaa63",
   "metadata": {
    "vscode": {
     "languageId": "r"
    }
   },
   "outputs": [
    {
     "data": {
      "text/plain": [
       "eigen() decomposition\n",
       "$values\n",
       "[1]  4.000000e+01 -2.000000e+00  9.481761e-16 -2.366039e-16\n",
       "\n",
       "$vectors\n",
       "           [,1]          [,2]       [,3]        [,4]\n",
       "[1,] -0.4223684 -8.164966e-01 -0.1648566  0.30885319\n",
       "[2,] -0.4720588 -4.082483e-01  0.6091261 -0.07465138\n",
       "[3,] -0.5217492  6.852613e-17 -0.7236824 -0.77725681\n",
       "[4,] -0.5714396  4.082483e-01  0.2794129  0.54305500\n"
      ]
     },
     "metadata": {},
     "output_type": "display_data"
    }
   ],
   "source": [
    "eigen(x) #eigen values"
   ]
  },
  {
   "cell_type": "code",
   "execution_count": null,
   "id": "77afdb4e",
   "metadata": {
    "vscode": {
     "languageId": "r"
    }
   },
   "outputs": [],
   "source": []
  }
 ],
 "metadata": {
  "kernelspec": {
   "display_name": "R",
   "language": "R",
   "name": "ir"
  },
  "language_info": {
   "codemirror_mode": "r",
   "file_extension": ".r",
   "mimetype": "text/x-r-source",
   "name": "R",
   "pygments_lexer": "r",
   "version": "4.4.1"
  }
 },
 "nbformat": 4,
 "nbformat_minor": 5
}
