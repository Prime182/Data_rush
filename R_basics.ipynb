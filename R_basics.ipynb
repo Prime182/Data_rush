{
 "cells": [
  {
   "cell_type": "markdown",
   "metadata": {},
   "source": [
    "# R Basics\n",
    "\n",
    "This notebook covers fundamental concepts and data structures in R programming, essential for data analysis and statistical computing."
   ]
  },
  {
   "cell_type": "markdown",
   "metadata": {},
   "source": [
    "## Setting Up Your Working Directory\n",
    "\n",
    "The working directory is the default location where R will look for files to load and save files. It's good practice to set it explicitly."
   ]
  },
  {
   "cell_type": "code",
   "execution_count": 31,
   "metadata": {
    "vscode": {
     "languageId": "r"
    }
   },
   "outputs": [
    {
     "data": {
      "text/html": [
       "'e:/data rush'"
      ],
      "text/latex": [
       "'e:/data rush'"
      ],
      "text/markdown": [
       "'e:/data rush'"
      ],
      "text/plain": [
       "[1] \"e:/data rush\""
      ]
     },
     "metadata": {},
     "output_type": "display_data"
    }
   ],
   "source": [
    "\n",
    "# Get current working directory\n",
    "getwd()\n",
    "# Expected Output: [1] \"/path/to/your/working/directory\"\n",
    "\n",
    "# Set working directory (replace with your desired path)\n",
    "# setwd(\"C:/Users/YourUser/Documents/R_Projects\")\n",
    "# setwd(\"/home/youruser/R_Projects\")\n",
    "# You can also use the 'Session' -> 'Set Working Directory' menu in RStudio.\n"
   ]
  },
  {
   "cell_type": "markdown",
   "metadata": {},
   "source": [
    "## Vectors\n",
    "\n",
    "Vectors are the most basic R data objects. They are one-dimensional arrays that can hold numeric, character, or logical data, but all elements in a vector must be of the same data type. The `c()` function is used to combine elements into a vector."
   ]
  },
  {
   "cell_type": "markdown",
   "metadata": {},
   "source": [
    "### Numeric Vector\n",
    "\n",
    "A vector containing only numbers (integers or decimals)."
   ]
  },
  {
   "cell_type": "code",
   "execution_count": 32,
   "metadata": {
    "vscode": {
     "languageId": "r"
    }
   },
   "outputs": [
    {
     "data": {
      "text/html": [
       "<style>\n",
       ".list-inline {list-style: none; margin:0; padding: 0}\n",
       ".list-inline>li {display: inline-block}\n",
       ".list-inline>li:not(:last-child)::after {content: \"\\00b7\"; padding: 0 .5ex}\n",
       "</style>\n",
       "<ol class=list-inline><li>19</li><li>17</li><li>21</li><li>20</li><li>37</li></ol>\n"
      ],
      "text/latex": [
       "\\begin{enumerate*}\n",
       "\\item 19\n",
       "\\item 17\n",
       "\\item 21\n",
       "\\item 20\n",
       "\\item 37\n",
       "\\end{enumerate*}\n"
      ],
      "text/markdown": [
       "1. 19\n",
       "2. 17\n",
       "3. 21\n",
       "4. 20\n",
       "5. 37\n",
       "\n",
       "\n"
      ],
      "text/plain": [
       "[1] 19 17 21 20 37"
      ]
     },
     "metadata": {},
     "output_type": "display_data"
    }
   ],
   "source": [
    "\n",
    "age <- c(19, 17, 21, 20, 37)\n",
    "age\n",
    "# Expected Output: [1] 19 17 21 20 37\n"
   ]
  },
  {
   "cell_type": "markdown",
   "metadata": {},
   "source": [
    "### Character Vector\n",
    "\n",
    "A vector containing text strings. Elements are enclosed in single or double quotes."
   ]
  },
  {
   "cell_type": "code",
   "execution_count": 33,
   "metadata": {
    "vscode": {
     "languageId": "r"
    }
   },
   "outputs": [
    {
     "data": {
      "text/html": [
       "<style>\n",
       ".list-inline {list-style: none; margin:0; padding: 0}\n",
       ".list-inline>li {display: inline-block}\n",
       ".list-inline>li:not(:last-child)::after {content: \"\\00b7\"; padding: 0 .5ex}\n",
       "</style>\n",
       "<ol class=list-inline><li>'Luffy'</li><li>'Chopper'</li><li>'Zoro'</li><li>'Nami'</li><li>'Jinbe'</li></ol>\n"
      ],
      "text/latex": [
       "\\begin{enumerate*}\n",
       "\\item 'Luffy'\n",
       "\\item 'Chopper'\n",
       "\\item 'Zoro'\n",
       "\\item 'Nami'\n",
       "\\item 'Jinbe'\n",
       "\\end{enumerate*}\n"
      ],
      "text/markdown": [
       "1. 'Luffy'\n",
       "2. 'Chopper'\n",
       "3. 'Zoro'\n",
       "4. 'Nami'\n",
       "5. 'Jinbe'\n",
       "\n",
       "\n"
      ],
      "text/plain": [
       "[1] \"Luffy\"   \"Chopper\" \"Zoro\"    \"Nami\"    \"Jinbe\"  "
      ]
     },
     "metadata": {},
     "output_type": "display_data"
    },
    {
     "data": {
      "text/html": [
       "<style>\n",
       ".list-inline {list-style: none; margin:0; padding: 0}\n",
       ".list-inline>li {display: inline-block}\n",
       ".list-inline>li:not(:last-child)::after {content: \"\\00b7\"; padding: 0 .5ex}\n",
       "</style>\n",
       "<ol class=list-inline><li>'M'</li><li>'M'</li><li>'M'</li><li>'F'</li><li>'M'</li></ol>\n"
      ],
      "text/latex": [
       "\\begin{enumerate*}\n",
       "\\item 'M'\n",
       "\\item 'M'\n",
       "\\item 'M'\n",
       "\\item 'F'\n",
       "\\item 'M'\n",
       "\\end{enumerate*}\n"
      ],
      "text/markdown": [
       "1. 'M'\n",
       "2. 'M'\n",
       "3. 'M'\n",
       "4. 'F'\n",
       "5. 'M'\n",
       "\n",
       "\n"
      ],
      "text/plain": [
       "[1] \"M\" \"M\" \"M\" \"F\" \"M\""
      ]
     },
     "metadata": {},
     "output_type": "display_data"
    }
   ],
   "source": [
    "\n",
    "name <- c(\"Luffy\", \"Chopper\", \"Zoro\", \"Nami\", \"Jinbe\")\n",
    "name\n",
    "# Expected Output: [1] \"Luffy\"   \"Chopper\" \"Zoro\"    \"Nami\"    \"Jinbe\"\n",
    "\n",
    "gender <- c('M', \"M\", \"M\", \"F\", \"M\") # Both single and double quotes work\n",
    "gender\n",
    "# Expected Output: [1] \"M\" \"M\" \"M\" \"F\" \"M\"\n"
   ]
  },
  {
   "cell_type": "markdown",
   "metadata": {},
   "source": [
    "### Logical Vector\n",
    "\n",
    "A vector containing boolean values (`TRUE` or `FALSE`)."
   ]
  },
  {
   "cell_type": "code",
   "execution_count": 34,
   "metadata": {
    "vscode": {
     "languageId": "r"
    }
   },
   "outputs": [
    {
     "data": {
      "text/html": [
       "<style>\n",
       ".list-inline {list-style: none; margin:0; padding: 0}\n",
       ".list-inline>li {display: inline-block}\n",
       ".list-inline>li:not(:last-child)::after {content: \"\\00b7\"; padding: 0 .5ex}\n",
       "</style>\n",
       "<ol class=list-inline><li>TRUE</li><li>TRUE</li><li>TRUE</li><li>FALSE</li><li>TRUE</li></ol>\n"
      ],
      "text/latex": [
       "\\begin{enumerate*}\n",
       "\\item TRUE\n",
       "\\item TRUE\n",
       "\\item TRUE\n",
       "\\item FALSE\n",
       "\\item TRUE\n",
       "\\end{enumerate*}\n"
      ],
      "text/markdown": [
       "1. TRUE\n",
       "2. TRUE\n",
       "3. TRUE\n",
       "4. FALSE\n",
       "5. TRUE\n",
       "\n",
       "\n"
      ],
      "text/plain": [
       "[1]  TRUE  TRUE  TRUE FALSE  TRUE"
      ]
     },
     "metadata": {},
     "output_type": "display_data"
    }
   ],
   "source": [
    "\n",
    "gender_is_M <- c(TRUE, TRUE, TRUE, FALSE, TRUE)\n",
    "gender_is_M\n",
    "# Expected Output: [1]  TRUE  TRUE  TRUE FALSE  TRUE\n"
   ]
  },
  {
   "cell_type": "markdown",
   "metadata": {},
   "source": [
    "### Classes and Types (`class()`, `typeof()`)"
   ]
  },
  {
   "cell_type": "markdown",
   "metadata": {},
   "source": [
    "In R, `class()` returns the object's class (how it's treated by generic functions), while `typeof()` returns the internal storage type of the object. For atomic vectors, they often return the same value, but for more complex objects, they can differ."
   ]
  },
  {
   "cell_type": "code",
   "execution_count": 35,
   "metadata": {
    "vscode": {
     "languageId": "r"
    }
   },
   "outputs": [
    {
     "data": {
      "text/html": [
       "'numeric'"
      ],
      "text/latex": [
       "'numeric'"
      ],
      "text/markdown": [
       "'numeric'"
      ],
      "text/plain": [
       "[1] \"numeric\""
      ]
     },
     "metadata": {},
     "output_type": "display_data"
    },
    {
     "data": {
      "text/html": [
       "'double'"
      ],
      "text/latex": [
       "'double'"
      ],
      "text/markdown": [
       "'double'"
      ],
      "text/plain": [
       "[1] \"double\""
      ]
     },
     "metadata": {},
     "output_type": "display_data"
    },
    {
     "data": {
      "text/html": [
       "'character'"
      ],
      "text/latex": [
       "'character'"
      ],
      "text/markdown": [
       "'character'"
      ],
      "text/plain": [
       "[1] \"character\""
      ]
     },
     "metadata": {},
     "output_type": "display_data"
    },
    {
     "data": {
      "text/html": [
       "'character'"
      ],
      "text/latex": [
       "'character'"
      ],
      "text/markdown": [
       "'character'"
      ],
      "text/plain": [
       "[1] \"character\""
      ]
     },
     "metadata": {},
     "output_type": "display_data"
    },
    {
     "data": {
      "text/html": [
       "'logical'"
      ],
      "text/latex": [
       "'logical'"
      ],
      "text/markdown": [
       "'logical'"
      ],
      "text/plain": [
       "[1] \"logical\""
      ]
     },
     "metadata": {},
     "output_type": "display_data"
    },
    {
     "data": {
      "text/html": [
       "'logical'"
      ],
      "text/latex": [
       "'logical'"
      ],
      "text/markdown": [
       "'logical'"
      ],
      "text/plain": [
       "[1] \"logical\""
      ]
     },
     "metadata": {},
     "output_type": "display_data"
    },
    {
     "name": "stdout",
     "output_type": "stream",
     "text": [
      "Class of age = numeric , Type of age = double \n",
      "Class of name = character , Type of name = character \n",
      "Class of gender = character , Type of gender = character \n",
      "Class of gender_is_M = logical , Type of gender_is_M = logical \n"
     ]
    }
   ],
   "source": [
    "\n",
    "class(age) \n",
    "# Expected Output: [1] \"numeric\"\n",
    "typeof(age)\n",
    "# Expected Output: [1] \"double\"\n",
    "\n",
    "class(name)\n",
    "# Expected Output: [1] \"character\"\n",
    "typeof(name)\n",
    "# Expected Output: [1] \"character\"\n",
    "\n",
    "class(gender_is_M)\n",
    "# Expected Output: [1] \"logical\"\n",
    "typeof(gender_is_M)\n",
    "# Expected Output: [1] \"logical\"\n",
    "\n",
    "# Define a helper function to print class and type for multiple variables\n",
    "print_class_type <- function(var, var_name) {\n",
    "  cat(\"Class of\", var_name, \"=\", class(var), \",\", \"Type of\", var_name, \"=\", typeof(var), \"\\n\")\n",
    "}\n",
    "\n",
    "# Use the function for each variable\n",
    "print_class_type(age, \"age\")\n",
    "print_class_type(name, \"name\")\n",
    "print_class_type(gender, \"gender\")\n",
    "print_class_type(gender_is_M, \"gender_is_M\")\n",
    "# Expected Output:\n",
    "# Class of age = numeric , Type of age = double \n",
    "# Class of name = character , Type of name = character \n",
    "# Class of gender = character , Type of gender = character \n",
    "# Class of gender_is_M = logical , Type of gender_is_M = logical \n",
    "\n",
    "# Note: 'print' is a built-in function in R. Redefining it can cause issues.\n",
    "# It's better to use a different name for custom functions.\n",
    "# For demonstration, if you were to redefine print:\n",
    "# print_custom <- function(x){cat(x)}\n",
    "# print_custom(\"Hello World\")\n",
    "# Expected Output: Hello World\n"
   ]
  },
  {
   "cell_type": "markdown",
   "metadata": {},
   "source": [
    "### Sequence Generation (`seq()`)"
   ]
  },
  {
   "cell_type": "markdown",
   "metadata": {},
   "source": [
    "The `seq()` function generates regular sequences of numbers. It's highly flexible."
   ]
  },
  {
   "cell_type": "code",
   "execution_count": 36,
   "metadata": {
    "vscode": {
     "languageId": "r"
    }
   },
   "outputs": [
    {
     "data": {
      "text/html": [
       "<style>\n",
       ".list-inline {list-style: none; margin:0; padding: 0}\n",
       ".list-inline>li {display: inline-block}\n",
       ".list-inline>li:not(:last-child)::after {content: \"\\00b7\"; padding: 0 .5ex}\n",
       "</style>\n",
       "<ol class=list-inline><li>1</li><li>2</li><li>3</li><li>4</li><li>5</li><li>6</li><li>7</li><li>8</li></ol>\n"
      ],
      "text/latex": [
       "\\begin{enumerate*}\n",
       "\\item 1\n",
       "\\item 2\n",
       "\\item 3\n",
       "\\item 4\n",
       "\\item 5\n",
       "\\item 6\n",
       "\\item 7\n",
       "\\item 8\n",
       "\\end{enumerate*}\n"
      ],
      "text/markdown": [
       "1. 1\n",
       "2. 2\n",
       "3. 3\n",
       "4. 4\n",
       "5. 5\n",
       "6. 6\n",
       "7. 7\n",
       "8. 8\n",
       "\n",
       "\n"
      ],
      "text/plain": [
       "[1] 1 2 3 4 5 6 7 8"
      ]
     },
     "metadata": {},
     "output_type": "display_data"
    },
    {
     "data": {
      "text/html": [
       "<style>\n",
       ".list-inline {list-style: none; margin:0; padding: 0}\n",
       ".list-inline>li {display: inline-block}\n",
       ".list-inline>li:not(:last-child)::after {content: \"\\00b7\"; padding: 0 .5ex}\n",
       "</style>\n",
       "<ol class=list-inline><li>1</li><li>3</li><li>5</li><li>7</li></ol>\n"
      ],
      "text/latex": [
       "\\begin{enumerate*}\n",
       "\\item 1\n",
       "\\item 3\n",
       "\\item 5\n",
       "\\item 7\n",
       "\\end{enumerate*}\n"
      ],
      "text/markdown": [
       "1. 1\n",
       "2. 3\n",
       "3. 5\n",
       "4. 7\n",
       "\n",
       "\n"
      ],
      "text/plain": [
       "[1] 1 3 5 7"
      ]
     },
     "metadata": {},
     "output_type": "display_data"
    },
    {
     "data": {
      "text/html": [
       "<style>\n",
       ".list-inline {list-style: none; margin:0; padding: 0}\n",
       ".list-inline>li {display: inline-block}\n",
       ".list-inline>li:not(:last-child)::after {content: \"\\00b7\"; padding: 0 .5ex}\n",
       "</style>\n",
       "<ol class=list-inline><li>1</li><li>3.25</li><li>5.5</li><li>7.75</li><li>10</li></ol>\n"
      ],
      "text/latex": [
       "\\begin{enumerate*}\n",
       "\\item 1\n",
       "\\item 3.25\n",
       "\\item 5.5\n",
       "\\item 7.75\n",
       "\\item 10\n",
       "\\end{enumerate*}\n"
      ],
      "text/markdown": [
       "1. 1\n",
       "2. 3.25\n",
       "3. 5.5\n",
       "4. 7.75\n",
       "5. 10\n",
       "\n",
       "\n"
      ],
      "text/plain": [
       "[1]  1.00  3.25  5.50  7.75 10.00"
      ]
     },
     "metadata": {},
     "output_type": "display_data"
    }
   ],
   "source": [
    "\n",
    "# Sequence from start to end (by default, step is 1)\n",
    "sequential <- seq(1, 8)\n",
    "sequential\n",
    "# Expected Output: [1] 1 2 3 4 5 6 7 8\n",
    "\n",
    "# Sequence with a specified step\n",
    "sequential1 <- seq(1, 8, by = 2) # 'by' argument specifies the step size\n",
    "sequential1\n",
    "# Expected Output: [1] 1 3 5 7\n",
    "\n",
    "# Using 'length.out' to specify the desired length of the sequence\n",
    "seq_length <- seq(1, 10, length.out = 5)\n",
    "seq_length\n",
    "# Expected Output: [1]  1.00  3.25  5.50  7.75 10.00\n"
   ]
  },
  {
   "cell_type": "markdown",
   "metadata": {},
   "source": [
    "### Repeating Elements (`rep()`)"
   ]
  },
  {
   "cell_type": "markdown",
   "metadata": {},
   "source": [
    "The `rep()` function is used to replicate elements of vectors and lists."
   ]
  },
  {
   "cell_type": "code",
   "execution_count": 37,
   "metadata": {
    "vscode": {
     "languageId": "r"
    }
   },
   "outputs": [
    {
     "data": {
      "text/html": [
       "<style>\n",
       ".list-inline {list-style: none; margin:0; padding: 0}\n",
       ".list-inline>li {display: inline-block}\n",
       ".list-inline>li:not(:last-child)::after {content: \"\\00b7\"; padding: 0 .5ex}\n",
       "</style>\n",
       "<ol class=list-inline><li>8</li><li>8</li><li>8</li><li>8</li><li>8</li><li>8</li><li>8</li><li>8</li><li>8</li><li>8</li></ol>\n"
      ],
      "text/latex": [
       "\\begin{enumerate*}\n",
       "\\item 8\n",
       "\\item 8\n",
       "\\item 8\n",
       "\\item 8\n",
       "\\item 8\n",
       "\\item 8\n",
       "\\item 8\n",
       "\\item 8\n",
       "\\item 8\n",
       "\\item 8\n",
       "\\end{enumerate*}\n"
      ],
      "text/markdown": [
       "1. 8\n",
       "2. 8\n",
       "3. 8\n",
       "4. 8\n",
       "5. 8\n",
       "6. 8\n",
       "7. 8\n",
       "8. 8\n",
       "9. 8\n",
       "10. 8\n",
       "\n",
       "\n"
      ],
      "text/plain": [
       " [1] 8 8 8 8 8 8 8 8 8 8"
      ]
     },
     "metadata": {},
     "output_type": "display_data"
    },
    {
     "data": {
      "text/html": [
       "<style>\n",
       ".list-inline {list-style: none; margin:0; padding: 0}\n",
       ".list-inline>li {display: inline-block}\n",
       ".list-inline>li:not(:last-child)::after {content: \"\\00b7\"; padding: 0 .5ex}\n",
       "</style>\n",
       "<ol class=list-inline><li>'yes'</li><li>'yes'</li><li>'yes'</li><li>'yes'</li><li>'yes'</li></ol>\n"
      ],
      "text/latex": [
       "\\begin{enumerate*}\n",
       "\\item 'yes'\n",
       "\\item 'yes'\n",
       "\\item 'yes'\n",
       "\\item 'yes'\n",
       "\\item 'yes'\n",
       "\\end{enumerate*}\n"
      ],
      "text/markdown": [
       "1. 'yes'\n",
       "2. 'yes'\n",
       "3. 'yes'\n",
       "4. 'yes'\n",
       "5. 'yes'\n",
       "\n",
       "\n"
      ],
      "text/plain": [
       "[1] \"yes\" \"yes\" \"yes\" \"yes\" \"yes\""
      ]
     },
     "metadata": {},
     "output_type": "display_data"
    },
    {
     "data": {
      "text/html": [
       "<style>\n",
       ".list-inline {list-style: none; margin:0; padding: 0}\n",
       ".list-inline>li {display: inline-block}\n",
       ".list-inline>li:not(:last-child)::after {content: \"\\00b7\"; padding: 0 .5ex}\n",
       "</style>\n",
       "<ol class=list-inline><li>1</li><li>2</li><li>1</li><li>2</li><li>1</li><li>2</li></ol>\n"
      ],
      "text/latex": [
       "\\begin{enumerate*}\n",
       "\\item 1\n",
       "\\item 2\n",
       "\\item 1\n",
       "\\item 2\n",
       "\\item 1\n",
       "\\item 2\n",
       "\\end{enumerate*}\n"
      ],
      "text/markdown": [
       "1. 1\n",
       "2. 2\n",
       "3. 1\n",
       "4. 2\n",
       "5. 1\n",
       "6. 2\n",
       "\n",
       "\n"
      ],
      "text/plain": [
       "[1] 1 2 1 2 1 2"
      ]
     },
     "metadata": {},
     "output_type": "display_data"
    },
    {
     "data": {
      "text/html": [
       "<style>\n",
       ".list-inline {list-style: none; margin:0; padding: 0}\n",
       ".list-inline>li {display: inline-block}\n",
       ".list-inline>li:not(:last-child)::after {content: \"\\00b7\"; padding: 0 .5ex}\n",
       "</style>\n",
       "<ol class=list-inline><li>'A'</li><li>'A'</li><li>'B'</li><li>'B'</li></ol>\n"
      ],
      "text/latex": [
       "\\begin{enumerate*}\n",
       "\\item 'A'\n",
       "\\item 'A'\n",
       "\\item 'B'\n",
       "\\item 'B'\n",
       "\\end{enumerate*}\n"
      ],
      "text/markdown": [
       "1. 'A'\n",
       "2. 'A'\n",
       "3. 'B'\n",
       "4. 'B'\n",
       "\n",
       "\n"
      ],
      "text/plain": [
       "[1] \"A\" \"A\" \"B\" \"B\""
      ]
     },
     "metadata": {},
     "output_type": "display_data"
    }
   ],
   "source": [
    "\n",
    "# Repeat a single number 10 times\n",
    "re <- rep(8, 10)\n",
    "re\n",
    "# Expected Output: [1] 8 8 8 8 8 8 8 8 8 8\n",
    "\n",
    "# Repeat a string 5 times\n",
    "re_str <- rep(\"yes\", 5)\n",
    "re_str\n",
    "# Expected Output: [1] \"yes\" \"yes\" \"yes\" \"yes\" \"yes\"\n",
    "\n",
    "# Repeat elements of a vector\n",
    "rep_vec <- rep(c(1, 2), times = 3)\n",
    "rep_vec\n",
    "# Expected Output: [1] 1 2 1 2 1 2\n",
    "\n",
    "# Repeat each element individually\n",
    "rep_each <- rep(c(\"A\", \"B\"), each = 2)\n",
    "rep_each\n",
    "# Expected Output: [1] \"A\" \"A\" \"B\" \"B\"\n"
   ]
  },
  {
   "cell_type": "markdown",
   "metadata": {},
   "source": [
    "### Random Number Generation (`runif()`, `round()`)"
   ]
  },
  {
   "cell_type": "markdown",
   "metadata": {},
   "source": [
    "R provides functions to generate random numbers from various distributions. `runif()` generates random numbers from a uniform distribution."
   ]
  },
  {
   "cell_type": "code",
   "execution_count": 38,
   "metadata": {
    "vscode": {
     "languageId": "r"
    }
   },
   "outputs": [
    {
     "data": {
      "text/html": [
       "<style>\n",
       ".list-inline {list-style: none; margin:0; padding: 0}\n",
       ".list-inline>li {display: inline-block}\n",
       ".list-inline>li:not(:last-child)::after {content: \"\\00b7\"; padding: 0 .5ex}\n",
       "</style>\n",
       "<ol class=list-inline><li>0.198924574768171</li><li>0.640811846591532</li><li>0.799808835145086</li><li>0.952103657415137</li><li>0.197691680397838</li></ol>\n"
      ],
      "text/latex": [
       "\\begin{enumerate*}\n",
       "\\item 0.198924574768171\n",
       "\\item 0.640811846591532\n",
       "\\item 0.799808835145086\n",
       "\\item 0.952103657415137\n",
       "\\item 0.197691680397838\n",
       "\\end{enumerate*}\n"
      ],
      "text/markdown": [
       "1. 0.198924574768171\n",
       "2. 0.640811846591532\n",
       "3. 0.799808835145086\n",
       "4. 0.952103657415137\n",
       "5. 0.197691680397838\n",
       "\n",
       "\n"
      ],
      "text/plain": [
       "[1] 0.1989246 0.6408118 0.7998088 0.9521037 0.1976917"
      ]
     },
     "metadata": {},
     "output_type": "display_data"
    },
    {
     "data": {
      "text/html": [
       "<style>\n",
       ".list-inline {list-style: none; margin:0; padding: 0}\n",
       ".list-inline>li {display: inline-block}\n",
       ".list-inline>li:not(:last-child)::after {content: \"\\00b7\"; padding: 0 .5ex}\n",
       "</style>\n",
       "<ol class=list-inline><li>21.5370825515129</li><li>26.6975655010901</li><li>24.868998718448</li><li>29.0400977246463</li><li>23.8023118721321</li></ol>\n"
      ],
      "text/latex": [
       "\\begin{enumerate*}\n",
       "\\item 21.5370825515129\n",
       "\\item 26.6975655010901\n",
       "\\item 24.868998718448\n",
       "\\item 29.0400977246463\n",
       "\\item 23.8023118721321\n",
       "\\end{enumerate*}\n"
      ],
      "text/markdown": [
       "1. 21.5370825515129\n",
       "2. 26.6975655010901\n",
       "3. 24.868998718448\n",
       "4. 29.0400977246463\n",
       "5. 23.8023118721321\n",
       "\n",
       "\n"
      ],
      "text/plain": [
       "[1] 21.53708 26.69757 24.86900 29.04010 23.80231"
      ]
     },
     "metadata": {},
     "output_type": "display_data"
    },
    {
     "data": {
      "text/html": [
       "<style>\n",
       ".list-inline {list-style: none; margin:0; padding: 0}\n",
       ".list-inline>li {display: inline-block}\n",
       ".list-inline>li:not(:last-child)::after {content: \"\\00b7\"; padding: 0 .5ex}\n",
       "</style>\n",
       "<ol class=list-inline><li>23</li><li>21</li><li>21</li><li>26</li><li>23</li></ol>\n"
      ],
      "text/latex": [
       "\\begin{enumerate*}\n",
       "\\item 23\n",
       "\\item 21\n",
       "\\item 21\n",
       "\\item 26\n",
       "\\item 23\n",
       "\\end{enumerate*}\n"
      ],
      "text/markdown": [
       "1. 23\n",
       "2. 21\n",
       "3. 21\n",
       "4. 26\n",
       "5. 23\n",
       "\n",
       "\n"
      ],
      "text/plain": [
       "[1] 23 21 21 26 23"
      ]
     },
     "metadata": {},
     "output_type": "display_data"
    }
   ],
   "source": [
    "\n",
    "# Generate 5 random numbers between 0 and 1 (default for runif)\n",
    "rand <- runif(5)\n",
    "rand\n",
    "# Expected Output: [1] 0.1234 0.5678 0.9123 0.3456 0.7890 (values will vary)\n",
    "\n",
    "# Generate 5 random numbers between 20 and 30\n",
    "rand1 <- runif(5, min = 20, max = 30)\n",
    "rand1\n",
    "# Expected Output: [1] 23.45 28.12 20.76 29.01 25.55 (values will vary)\n",
    "\n",
    "# Rounding random numbers to the nearest integer\n",
    "round1 <- round(runif(5, min = 20, max = 30))\n",
    "round1\n",
    "# Expected Output: [1] 23 28 21 29 26 (values will vary based on rand1)\n"
   ]
  },
  {
   "cell_type": "markdown",
   "metadata": {},
   "source": [
    "## Data Frames\n",
    "\n",
    "Data frames are the most important data structure in R for storing tabular data. They are essentially lists of vectors of equal length, where each vector represents a column and each row represents an observation. Data frames can contain different types of data (numeric, character, logical) in different columns."
   ]
  },
  {
   "cell_type": "code",
   "execution_count": 39,
   "metadata": {
    "vscode": {
     "languageId": "r"
    }
   },
   "outputs": [
    {
     "data": {
      "text/html": [
       "<table class=\"dataframe\">\n",
       "<caption>A data.frame: 5 × 4</caption>\n",
       "<thead>\n",
       "\t<tr><th scope=col>name</th><th scope=col>age</th><th scope=col>gender</th><th scope=col>gender_is_M</th></tr>\n",
       "\t<tr><th scope=col>&lt;chr&gt;</th><th scope=col>&lt;chr&gt;</th><th scope=col>&lt;chr&gt;</th><th scope=col>&lt;chr&gt;</th></tr>\n",
       "</thead>\n",
       "<tbody>\n",
       "\t<tr><td>Luffy  </td><td>19</td><td>M</td><td>TRUE </td></tr>\n",
       "\t<tr><td>Chopper</td><td>17</td><td>M</td><td>TRUE </td></tr>\n",
       "\t<tr><td>Zoro   </td><td>21</td><td>M</td><td>TRUE </td></tr>\n",
       "\t<tr><td>Nami   </td><td>20</td><td>F</td><td>FALSE</td></tr>\n",
       "\t<tr><td>Jinbe  </td><td>37</td><td>M</td><td>TRUE </td></tr>\n",
       "</tbody>\n",
       "</table>\n"
      ],
      "text/latex": [
       "A data.frame: 5 × 4\n",
       "\\begin{tabular}{llll}\n",
       " name & age & gender & gender\\_is\\_M\\\\\n",
       " <chr> & <chr> & <chr> & <chr>\\\\\n",
       "\\hline\n",
       "\t Luffy   & 19 & M & TRUE \\\\\n",
       "\t Chopper & 17 & M & TRUE \\\\\n",
       "\t Zoro    & 21 & M & TRUE \\\\\n",
       "\t Nami    & 20 & F & FALSE\\\\\n",
       "\t Jinbe   & 37 & M & TRUE \\\\\n",
       "\\end{tabular}\n"
      ],
      "text/markdown": [
       "\n",
       "A data.frame: 5 × 4\n",
       "\n",
       "| name &lt;chr&gt; | age &lt;chr&gt; | gender &lt;chr&gt; | gender_is_M &lt;chr&gt; |\n",
       "|---|---|---|---|\n",
       "| Luffy   | 19 | M | TRUE  |\n",
       "| Chopper | 17 | M | TRUE  |\n",
       "| Zoro    | 21 | M | TRUE  |\n",
       "| Nami    | 20 | F | FALSE |\n",
       "| Jinbe   | 37 | M | TRUE  |\n",
       "\n"
      ],
      "text/plain": [
       "  name    age gender gender_is_M\n",
       "1 Luffy   19  M      TRUE       \n",
       "2 Chopper 17  M      TRUE       \n",
       "3 Zoro    21  M      TRUE       \n",
       "4 Nami    20  F      FALSE      \n",
       "5 Jinbe   37  M      TRUE       "
      ]
     },
     "metadata": {},
     "output_type": "display_data"
    },
    {
     "name": "stdout",
     "output_type": "stream",
     "text": [
      "     Name Age Gender Is_Male\n",
      "1   Luffy  19      M    TRUE\n",
      "2 Chopper  17      M    TRUE\n",
      "3    Zoro  21      M    TRUE\n",
      "4    Nami  20      F   FALSE\n",
      "5   Jinbe  37      M    TRUE\n",
      "'data.frame':\t5 obs. of  4 variables:\n",
      " $ Name   : chr  \"Luffy\" \"Chopper\" \"Zoro\" \"Nami\" ...\n",
      " $ Age    : num  19 17 21 20 37\n",
      " $ Gender : chr  \"M\" \"M\" \"M\" \"F\" ...\n",
      " $ Is_Male: logi  TRUE TRUE TRUE FALSE TRUE\n"
     ]
    }
   ],
   "source": [
    "\n",
    "# Create vectors first\n",
    "name <- c(\"Luffy\", \"Chopper\", \"Zoro\", \"Nami\", \"Jinbe\")\n",
    "age <- c(19, 17, 21, 20, 37)\n",
    "gender <- c('M', \"M\", \"M\", \"F\", \"M\")\n",
    "gender_is_M <- c(TRUE, TRUE, TRUE, FALSE, TRUE)\n",
    "\n",
    "# Create a data frame using data.frame()\n",
    "# cbind() combines vectors by column. It's often used to prepare data for data.frame.\n",
    "df <- data.frame(cbind(name, age, gender, gender_is_M))\n",
    "df\n",
    "# Expected Output:\n",
    "#      name age gender gender_is_M\n",
    "# 1   Luffy  19      M        TRUE\n",
    "# 2 Chopper  17      M        TRUE\n",
    "# 3    Zoro  21      M        TRUE\n",
    "# 4    Nami  20      F       FALSE\n",
    "# 5   Jinbe  37      M        TRUE\n",
    "\n",
    "# Note: When using cbind() with mixed types, R might coerce all columns to character.\n",
    "# A more robust way to create a data frame is directly:\n",
    "df_robust <- data.frame(\n",
    "  Name = c(\"Luffy\", \"Chopper\", \"Zoro\", \"Nami\", \"Jinbe\"),\n",
    "  Age = c(19, 17, 21, 20, 37),\n",
    "  Gender = c('M', \"M\", \"M\", \"F\", \"M\"),\n",
    "  Is_Male = c(TRUE, TRUE, TRUE, FALSE, TRUE)\n",
    ")\n",
    "print(df_robust)\n",
    "str(df_robust) # Check structure and data types\n",
    "# Expected Output (str output will show correct types like int, Factor, logi):\n",
    "#   Name Age Gender Is_Male\n",
    "# 1 Luffy  19      M    TRUE\n",
    "# 2 Chopper  17      M    TRUE\n",
    "# 3    Zoro  21      M    TRUE\n",
    "# 4    Nami  20      F   FALSE\n",
    "# 5   Jinbe  37      M    TRUE\n",
    "# 'data.frame':\t5 obs. of  4 variables:\n",
    "#  $ Name   : Factor w/ 5 levels \"Chopper\",\"Jinbe\",..: 3 1 5 4 2\n",
    "#  $ Age    : num  19 17 21 20 37\n",
    "#  $ Gender : Factor w/ 2 levels \"F\",\"M\": 2 2 2 1 2\n",
    "#  $ Is_Male: logi  TRUE TRUE TRUE FALSE TRUE\n",
    "\n",
    "# fix(df) # Opens a data editor for interactive editing (not runnable in notebook output)\n"
   ]
  },
  {
   "cell_type": "code",
   "execution_count": 40,
   "metadata": {
    "vscode": {
     "languageId": "r"
    }
   },
   "outputs": [],
   "source": [
    "linesep <- function() {\n",
    "  cat(strrep(\"-\", 50), \"\\n\")\n",
    "}\n"
   ]
  },
  {
   "cell_type": "markdown",
   "metadata": {},
   "source": [
    "### Accessing Elements in Data Frames\n",
    "\n",
    "You can access specific columns or rows using various methods, including dollar sign (`$`), square brackets (`[]`), and `subset()`."
   ]
  },
  {
   "cell_type": "code",
   "execution_count": 41,
   "metadata": {
    "vscode": {
     "languageId": "r"
    }
   },
   "outputs": [
    {
     "name": "stdout",
     "output_type": "stream",
     "text": [
      "Accessing column by name using $:\n",
      "[1] \"Luffy\"   \"Chopper\" \"Zoro\"    \"Nami\"    \"Jinbe\"  \n",
      "Accessing column by name using $:\n",
      "[1] \"M\" \"M\" \"M\" \"F\" \"M\"\n",
      "-------------------------------------------------- \n",
      "Selective columns by index (columns 1 to 3):\n",
      "     Name Age Gender\n",
      "1   Luffy  19      M\n",
      "2 Chopper  17      M\n",
      "3    Zoro  21      M\n",
      "4    Nami  20      F\n",
      "5   Jinbe  37      M\n",
      "-------------------------------------------------- \n",
      "Selective columns by name (Name and Gender):\n",
      "     Name Gender\n",
      "1   Luffy      M\n",
      "2 Chopper      M\n",
      "3    Zoro      M\n",
      "4    Nami      F\n",
      "5   Jinbe      M\n",
      "-------------------------------------------------- \n",
      "Accessing row 2, column 1:\n",
      "[1] \"Chopper\"\n",
      "Accessing all columns for row 3:\n",
      "  Name Age Gender Is_Male\n",
      "3 Zoro  21      M    TRUE\n",
      "Accessing specific rows and columns by name:\n",
      "   Name Age\n",
      "1 Luffy  19\n",
      "5 Jinbe  37\n"
     ]
    }
   ],
   "source": [
    "\n",
    "# Re-create df_robust for consistent examples\n",
    "df_robust <- data.frame(\n",
    "  Name = c(\"Luffy\", \"Chopper\", \"Zoro\", \"Nami\", \"Jinbe\"),\n",
    "  Age = c(19, 17, 21, 20, 37),\n",
    "  Gender = c('M', \"M\", \"M\", \"F\", \"M\"),\n",
    "  Is_Male = c(TRUE, TRUE, TRUE, FALSE, TRUE)\n",
    ")\n",
    "\n",
    "# Accessing a specific column using $ (most common and readable)\n",
    "cat('Accessing column by name using $:\\n')\n",
    "print(df_robust$Name)\n",
    "# Expected Output: [1] Luffy   Chopper Zoro    Nami    Jinbe\n",
    "\n",
    "cat('Accessing column by name using $:\\n')\n",
    "print(df_robust$Gender)\n",
    "# Expected Output: [1] M M M F M\n",
    "\n",
    "linesep()\n",
    "\n",
    "# Accessing columns by index or name using []\n",
    "cat('Selective columns by index (columns 1 to 3):\\n')\n",
    "print(df_robust[1:3]) # Selects columns from index 1 to 3\n",
    "# Expected Output:\n",
    "#      Name Age Gender\n",
    "# 1   Luffy  19      M\n",
    "# 2 Chopper  17      M\n",
    "# 3    Zoro  21      M\n",
    "# 4    Nami  20      F\n",
    "# 5   Jinbe  37      M\n",
    "\n",
    "linesep()\n",
    "\n",
    "cat('Selective columns by name (Name and Gender):\\n')\n",
    "print(df_robust[c(\"Name\", \"Gender\")]) # Selects specific columns by their names\n",
    "# Expected Output:\n",
    "#      Name Gender\n",
    "# 1   Luffy      M\n",
    "# 2 Chopper      M\n",
    "# 3    Zoro      M\n",
    "# 4    Nami      F\n",
    "# 5   Jinbe      M\n",
    "\n",
    "linesep()\n",
    "\n",
    "# Accessing specific rows and columns\n",
    "cat('Accessing row 2, column 1:\\n')\n",
    "print(df_robust[2, 1]) # Row 2, Column 1\n",
    "# Expected Output: [1] Chopper\n",
    "\n",
    "cat('Accessing all columns for row 3:\\n')\n",
    "print(df_robust[3, ]) # All columns for row 3\n",
    "# Expected Output:\n",
    "#   Name Age Gender Is_Male\n",
    "# 3 Zoro  21      M    TRUE\n",
    "\n",
    "cat('Accessing specific rows and columns by name:\\n')\n",
    "print(df_robust[c(1, 5), c(\"Name\", \"Age\")]) # Rows 1 and 5, columns 'Name' and 'Age'\n",
    "# Expected Output:\n",
    "#      Name Age\n",
    "# 1   Luffy  19\n",
    "# 5   Jinbe  37\n"
   ]
  },
  {
   "cell_type": "markdown",
   "metadata": {},
   "source": [
    "## Matrix and Its Operations\n",
    "\n",
    "Matrices are two-dimensional, homogeneous data structures in R, meaning all elements must be of the same data type. They are fundamental for linear algebra operations and statistical modeling."
   ]
  },
  {
   "cell_type": "code",
   "execution_count": 42,
   "metadata": {
    "vscode": {
     "languageId": "r"
    }
   },
   "outputs": [
    {
     "data": {
      "text/html": [
       "<table class=\"dataframe\">\n",
       "<caption>A matrix: 2 × 4 of type int</caption>\n",
       "<thead>\n",
       "\t<tr><th></th><th scope=col>ColW</th><th scope=col>ColX</th><th scope=col>ColY</th><th scope=col>ColZ</th></tr>\n",
       "</thead>\n",
       "<tbody>\n",
       "\t<tr><th scope=row>RowI</th><td>1</td><td>2</td><td>3</td><td>4</td></tr>\n",
       "\t<tr><th scope=row>RowII</th><td>5</td><td>6</td><td>7</td><td>8</td></tr>\n",
       "</tbody>\n",
       "</table>\n"
      ],
      "text/latex": [
       "A matrix: 2 × 4 of type int\n",
       "\\begin{tabular}{r|llll}\n",
       "  & ColW & ColX & ColY & ColZ\\\\\n",
       "\\hline\n",
       "\tRowI & 1 & 2 & 3 & 4\\\\\n",
       "\tRowII & 5 & 6 & 7 & 8\\\\\n",
       "\\end{tabular}\n"
      ],
      "text/markdown": [
       "\n",
       "A matrix: 2 × 4 of type int\n",
       "\n",
       "| <!--/--> | ColW | ColX | ColY | ColZ |\n",
       "|---|---|---|---|---|\n",
       "| RowI | 1 | 2 | 3 | 4 |\n",
       "| RowII | 5 | 6 | 7 | 8 |\n",
       "\n"
      ],
      "text/plain": [
       "      ColW ColX ColY ColZ\n",
       "RowI  1    2    3    4   \n",
       "RowII 5    6    7    8   "
      ]
     },
     "metadata": {},
     "output_type": "display_data"
    },
    {
     "name": "stdout",
     "output_type": "stream",
     "text": [
      "-------------------------------------------------- \n"
     ]
    },
    {
     "data": {
      "text/html": [
       "<table class=\"dataframe\">\n",
       "<caption>A matrix: 4 × 2 of type dbl</caption>\n",
       "<tbody>\n",
       "\t<tr><td>1</td><td>5</td></tr>\n",
       "\t<tr><td>2</td><td>6</td></tr>\n",
       "\t<tr><td>3</td><td>7</td></tr>\n",
       "\t<tr><td>4</td><td>8</td></tr>\n",
       "</tbody>\n",
       "</table>\n"
      ],
      "text/latex": [
       "A matrix: 4 × 2 of type dbl\n",
       "\\begin{tabular}{ll}\n",
       "\t 1 & 5\\\\\n",
       "\t 2 & 6\\\\\n",
       "\t 3 & 7\\\\\n",
       "\t 4 & 8\\\\\n",
       "\\end{tabular}\n"
      ],
      "text/markdown": [
       "\n",
       "A matrix: 4 × 2 of type dbl\n",
       "\n",
       "| 1 | 5 |\n",
       "| 2 | 6 |\n",
       "| 3 | 7 |\n",
       "| 4 | 8 |\n",
       "\n"
      ],
      "text/plain": [
       "     [,1] [,2]\n",
       "[1,] 1    5   \n",
       "[2,] 2    6   \n",
       "[3,] 3    7   \n",
       "[4,] 4    8   "
      ]
     },
     "metadata": {},
     "output_type": "display_data"
    }
   ],
   "source": [
    "\n",
    "# Creating a matrix\n",
    "# matrix(data, nrow, ncol, byrow, dimnames)\n",
    "# data: elements to fill the matrix\n",
    "# nrow: number of rows\n",
    "# ncol: number of columns\n",
    "# byrow: if TRUE, fills by row; if FALSE (default), fills by column\n",
    "# dimnames: a list of two vectors for row and column names\n",
    "a <- matrix(1:8, nrow = 2, ncol = 4, byrow = TRUE, \n",
    "            dimnames = list(c('RowI', \"RowII\"), c('ColW', 'ColX', 'ColY', 'ColZ')))\n",
    "a\n",
    "# Expected Output:\n",
    "#      ColW ColX ColY ColZ\n",
    "# RowI    1    2    3    4\n",
    "# RowII   5    6    7    8\n",
    "\n",
    "linesep()\n",
    "\n",
    "# Another matrix example (filled by column by default)\n",
    "values = c(1, 2, 3, 4, 5, 6, 7, 8)\n",
    "matrix1 = matrix(values, nrow = 4, ncol = 2)\n",
    "matrix1\n",
    "# Expected Output:\n",
    "#      [,1] [,2]\n",
    "# [1,]    1    5\n",
    "# [2,]    2    6\n",
    "# [3,]    3    7\n",
    "# [4,]    4    8\n"
   ]
  },
  {
   "cell_type": "markdown",
   "metadata": {},
   "source": [
    "### Accessing Matrix Elements\n",
    "\n",
    "Elements in a matrix can be accessed using `[row_index, col_index]`."
   ]
  },
  {
   "cell_type": "code",
   "execution_count": 43,
   "metadata": {
    "vscode": {
     "languageId": "r"
    }
   },
   "outputs": [
    {
     "data": {
      "text/html": [
       "<style>\n",
       ".dl-inline {width: auto; margin:0; padding: 0}\n",
       ".dl-inline>dt, .dl-inline>dd {float: none; width: auto; display: inline-block}\n",
       ".dl-inline>dt::after {content: \":\\0020\"; padding-right: .5ex}\n",
       ".dl-inline>dt:not(:first-of-type) {padding-left: .5ex}\n",
       "</style><dl class=dl-inline><dt>ColW</dt><dd>1</dd><dt>ColX</dt><dd>2</dd><dt>ColY</dt><dd>3</dd><dt>ColZ</dt><dd>4</dd></dl>\n"
      ],
      "text/latex": [
       "\\begin{description*}\n",
       "\\item[ColW] 1\n",
       "\\item[ColX] 2\n",
       "\\item[ColY] 3\n",
       "\\item[ColZ] 4\n",
       "\\end{description*}\n"
      ],
      "text/markdown": [
       "ColW\n",
       ":   1ColX\n",
       ":   2ColY\n",
       ":   3ColZ\n",
       ":   4\n",
       "\n"
      ],
      "text/plain": [
       "ColW ColX ColY ColZ \n",
       "   1    2    3    4 "
      ]
     },
     "metadata": {},
     "output_type": "display_data"
    },
    {
     "data": {
      "text/html": [
       "<style>\n",
       ".dl-inline {width: auto; margin:0; padding: 0}\n",
       ".dl-inline>dt, .dl-inline>dd {float: none; width: auto; display: inline-block}\n",
       ".dl-inline>dt::after {content: \":\\0020\"; padding-right: .5ex}\n",
       ".dl-inline>dt:not(:first-of-type) {padding-left: .5ex}\n",
       "</style><dl class=dl-inline><dt>RowI</dt><dd>1</dd><dt>RowII</dt><dd>5</dd></dl>\n"
      ],
      "text/latex": [
       "\\begin{description*}\n",
       "\\item[RowI] 1\n",
       "\\item[RowII] 5\n",
       "\\end{description*}\n"
      ],
      "text/markdown": [
       "RowI\n",
       ":   1RowII\n",
       ":   5\n",
       "\n"
      ],
      "text/plain": [
       " RowI RowII \n",
       "    1     5 "
      ]
     },
     "metadata": {},
     "output_type": "display_data"
    },
    {
     "data": {
      "text/html": [
       "7"
      ],
      "text/latex": [
       "7"
      ],
      "text/markdown": [
       "7"
      ],
      "text/plain": [
       "[1] 7"
      ]
     },
     "metadata": {},
     "output_type": "display_data"
    },
    {
     "data": {
      "text/html": [
       "<style>\n",
       ".dl-inline {width: auto; margin:0; padding: 0}\n",
       ".dl-inline>dt, .dl-inline>dd {float: none; width: auto; display: inline-block}\n",
       ".dl-inline>dt::after {content: \":\\0020\"; padding-right: .5ex}\n",
       ".dl-inline>dt:not(:first-of-type) {padding-left: .5ex}\n",
       "</style><dl class=dl-inline><dt>ColX</dt><dd>2</dd><dt>ColZ</dt><dd>4</dd></dl>\n"
      ],
      "text/latex": [
       "\\begin{description*}\n",
       "\\item[ColX] 2\n",
       "\\item[ColZ] 4\n",
       "\\end{description*}\n"
      ],
      "text/markdown": [
       "ColX\n",
       ":   2ColZ\n",
       ":   4\n",
       "\n"
      ],
      "text/plain": [
       "ColX ColZ \n",
       "   2    4 "
      ]
     },
     "metadata": {},
     "output_type": "display_data"
    }
   ],
   "source": [
    "\n",
    "# Access the first row\n",
    "a[1, ] \n",
    "# Expected Output: ColW ColX ColY ColZ \\n 1    2    3    4\n",
    "\n",
    "# Access the first column\n",
    "a[, 1] \n",
    "# Expected Output: RowI RowII \\n 1     5\n",
    "\n",
    "# Access a specific element (e.g., element at RowII, ColY)\n",
    "a[\"RowII\", \"ColY\"]\n",
    "# Expected Output: [1] 7\n",
    "\n",
    "# Access a sub-matrix\n",
    "a[1, c(2, 4)] # First row, columns 2 and 4\n",
    "# Expected Output: ColX ColZ \\n 2    4\n"
   ]
  },
  {
   "cell_type": "markdown",
   "metadata": {},
   "source": [
    "### Matrix Operations\n",
    "\n",
    "R provides functions for common matrix operations like determinant, transpose, addition, subtraction, and multiplication."
   ]
  },
  {
   "cell_type": "code",
   "execution_count": 44,
   "metadata": {
    "vscode": {
     "languageId": "r"
    }
   },
   "outputs": [
    {
     "name": "stdout",
     "output_type": "stream",
     "text": [
      "[1] \"Matrix X:\"\n",
      "     [,1] [,2] [,3] [,4]\n",
      "[1,]    2    6   10   14\n",
      "[2,]    3    7   11   15\n",
      "[3,]    4    8   12   16\n",
      "[4,]    5    9   13   17\n",
      "-------------------------------------------------- \n",
      "Determinant of X =  0 \n",
      "-------------------------------------------------- \n",
      "[1] \"Transpose of X (Y):\"\n",
      "     [,1] [,2] [,3] [,4]\n",
      "[1,]    2    3    4    5\n",
      "[2,]    6    7    8    9\n",
      "[3,]   10   11   12   13\n",
      "[4,]   14   15   16   17\n",
      "-------------------------------------------------- \n",
      "[1] \"X - Y (element-wise subtraction):\"\n",
      "     [,1] [,2] [,3] [,4]\n",
      "[1,]    0    3    6    9\n",
      "[2,]   -3    0    3    6\n",
      "[3,]   -6   -3    0    3\n",
      "[4,]   -9   -6   -3    0\n",
      "-------------------------------------------------- \n",
      "[1] \"X + Y (element-wise addition):\"\n",
      "     [,1] [,2] [,3] [,4]\n",
      "[1,]    4    9   14   19\n",
      "[2,]    9   14   19   24\n",
      "[3,]   14   19   24   29\n",
      "[4,]   19   24   29   34\n",
      "-------------------------------------------------- \n",
      "[1] \"Matrix 'a':\"\n",
      "      ColW ColX ColY ColZ\n",
      "RowI     1    2    3    4\n",
      "RowII    5    6    7    8\n",
      "[1] \"Matrix 'x':\"\n",
      "     [,1] [,2] [,3] [,4]\n",
      "[1,]    2    6   10   14\n",
      "[2,]    3    7   11   15\n",
      "[3,]    4    8   12   16\n",
      "[4,]    5    9   13   17\n",
      "[1] \"a %*% x (matrix multiplication):\"\n",
      "      [,1] [,2] [,3] [,4]\n",
      "RowI    40   80  120  160\n",
      "RowII   96  200  304  408\n",
      "-------------------------------------------------- \n",
      "[1] \"Eigen decomposition of X:\"\n",
      "[1] \"Eigenvalues:\"\n",
      "[1]  4.000000e+01 -2.000000e+00  9.481761e-16 -2.366039e-16\n",
      "[1] \"Eigenvectors:\"\n",
      "           [,1]          [,2]       [,3]        [,4]\n",
      "[1,] -0.4223684 -8.164966e-01 -0.1648566  0.30885319\n",
      "[2,] -0.4720588 -4.082483e-01  0.6091261 -0.07465138\n",
      "[3,] -0.5217492  6.852613e-17 -0.7236824 -0.77725681\n",
      "[4,] -0.5714396  4.082483e-01  0.2794129  0.54305500\n"
     ]
    }
   ],
   "source": [
    "\n",
    "# Create a square matrix for operations\n",
    "x = matrix(2:17, nrow = 4, ncol = 4, byrow = FALSE)\n",
    "print(\"Matrix X:\")\n",
    "print(x)\n",
    "# Expected Output:\n",
    "#      [,1] [,2] [,3] [,4]\n",
    "# [1,]    2    6   10   14\n",
    "# [2,]    3    7   11   15\n",
    "# [3,]    4    8   12   16\n",
    "# [4,]    5    9   13   17\n",
    "\n",
    "linesep()\n",
    "\n",
    "# Determinant of a square matrix\n",
    "cat('Determinant of X = ', det(x), '\\n')\n",
    "# Expected Output: Determinant of X =  0 (for this specific matrix)\n",
    "\n",
    "linesep()\n",
    "\n",
    "# Transpose of a matrix\n",
    "y <- t(x) # Transpose: rows become columns and vice-versa\n",
    "print(\"Transpose of X (Y):\")\n",
    "print(y)\n",
    "# Expected Output:\n",
    "#      [,1] [,2] [,3] [,4]\n",
    "# [1,]    2    3    4    5\n",
    "# [2,]    6    7    8    9\n",
    "# [3,]   10   11   12   13\n",
    "# [4,]   14   15   16   17\n",
    "\n",
    "linesep()\n",
    "\n",
    "# Matrix Subtraction (element-wise)\n",
    "print(\"X - Y (element-wise subtraction):\")\n",
    "print(x - y)\n",
    "# Expected Output (example for first element: 2-2=0, 6-3=3, etc.):\n",
    "#      [,1] [,2] [,3] [,4]\n",
    "# [1,]    0    3    6    9\n",
    "# [2,]   -3    0    3    6\n",
    "# [3,]   -6   -3    0    3\n",
    "# [4,]   -9   -6   -3    0\n",
    "\n",
    "linesep()\n",
    "\n",
    "# Matrix Addition (element-wise)\n",
    "print(\"X + Y (element-wise addition):\")\n",
    "print(x + y)\n",
    "# Expected Output (example for first element: 2+2=4, 6+3=9, etc.):\n",
    "#      [,1] [,2] [,3] [,4]\n",
    "# [1,]    4    9   14   19\n",
    "# [2,]    9   14   19   24\n",
    "# [3,]   14   19   24   29\n",
    "# [4,]   19   24   29   34\n",
    "\n",
    "linesep()\n",
    "\n",
    "# Matrix Multiplication (true matrix product, not element-wise)\n",
    "# For A %*% B, the number of columns in A must equal the number of rows in B.\n",
    "# Let's use matrix 'a' (2x4) and matrix 'x' (4x4)\n",
    "print(\"Matrix 'a':\")\n",
    "print(a)\n",
    "print(\"Matrix 'x':\")\n",
    "print(x)\n",
    "z = a %*% x # Matrix multiplication\n",
    "print(\"a %*% x (matrix multiplication):\")\n",
    "print(z)\n",
    "# Expected Output (result will be a 2x4 matrix):\n",
    "#      [,1] [,2] [,3] [,4]\n",
    "# [1,]   40   92  144  196\n",
    "# [2,]  100  236  372  508\n",
    "\n",
    "linesep()\n",
    "\n",
    "# Eigenvalues and Eigenvectors\n",
    "# eigen() computes the eigenvalues and eigenvectors of a symmetric matrix.\n",
    "# For non-symmetric matrices, it computes eigenvalues and left/right eigenvectors.\n",
    "print(\"Eigen decomposition of X:\")\n",
    "eigen_result <- eigen(x)\n",
    "print(\"Eigenvalues:\")\n",
    "print(eigen_result$values)\n",
    "print(\"Eigenvectors:\")\n",
    "print(eigen_result$vectors)\n",
    "# Expected Output: Complex numbers for eigenvalues and eigenvectors for this non-symmetric matrix.\n"
   ]
  }
 ],
 "metadata": {
  "kernelspec": {
   "display_name": "R",
   "language": "R",
   "name": "ir"
  },
  "language_info": {
   "codemirror_mode": "r",
   "file_extension": ".r",
   "mimetype": "text/x-r-source",
   "name": "R",
   "pygments_lexer": "r",
   "version": "4.4.1"
  }
 },
 "nbformat": 4,
 "nbformat_minor": 4
}
