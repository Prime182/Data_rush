{
 "cells": [
  {
   "cell_type": "markdown",
   "id": "5c5063cf",
   "metadata": {},
   "source": [
    "For Loop and While Loop"
   ]
  },
  {
   "cell_type": "code",
   "execution_count": 3,
   "id": "47acf07f",
   "metadata": {},
   "outputs": [
    {
     "name": "stdout",
     "output_type": "stream",
     "text": [
      "['apple', 'mango', 'orange']\n",
      "['apple', 'mango', 'orange']\n",
      "['apple', 'mango', 'orange']\n",
      "1\n",
      "2\n",
      "3\n",
      "4\n",
      "5\n"
     ]
    }
   ],
   "source": [
    "#for loop\n",
    "\n",
    "fruits = [\"apple\",\"mango\",\"orange\"]\n",
    "for fruit in fruits:\n",
    "    print(fruits)\n",
    "\n",
    "for i in range(0,5):\n",
    "    i += 1\n",
    "    print(i)"
   ]
  },
  {
   "cell_type": "code",
   "execution_count": null,
   "id": "d8134426",
   "metadata": {},
   "outputs": [
    {
     "name": "stdout",
     "output_type": "stream",
     "text": [
      "1\n",
      "2\n",
      "4\n",
      "---------------------------------------------------------------------\n",
      "6\n",
      "7\n",
      "8\n",
      "9\n"
     ]
    }
   ],
   "source": [
    "#while loop\n",
    "\n",
    "num = [1, 2, 4, 6, 8]\n",
    "i = 0  # Initialize index\n",
    "while i < len(num) and num[i] < 5:  # Check index bounds and condition\n",
    "    print(num[i])  # Print the element\n",
    "    i += 1  # Increment index\n",
    "\n",
    "print('---------------------------------------------------------------------')\n",
    "\n",
    "n = 5\n",
    "while n < 10:\n",
    "    n+=1\n",
    "    print(n)\n",
    "    if n==9:\n",
    "     break"
   ]
  },
  {
   "cell_type": "markdown",
   "id": "501036c3",
   "metadata": {},
   "source": [
    "Defining functions"
   ]
  },
  {
   "cell_type": "code",
   "execution_count": 33,
   "id": "94b4b2ad",
   "metadata": {},
   "outputs": [],
   "source": [
    "def linesep():\n",
    "    print('\\n'+'-'*100)"
   ]
  },
  {
   "cell_type": "markdown",
   "id": "6e0369cc",
   "metadata": {},
   "source": [
    "range(), enumerate(), zip()"
   ]
  },
  {
   "cell_type": "code",
   "execution_count": null,
   "id": "73a3ce55",
   "metadata": {},
   "outputs": [
    {
     "name": "stdout",
     "output_type": "stream",
     "text": [
      "0 10 20 30 40 50 60 70 80 90 100 \n",
      "----------------------------------------------------------------------------------------------------\n",
      "0 a\n",
      "1 b\n",
      "2 c\n",
      "\n",
      "----------------------------------------------------------------------------------------------------\n",
      "('luffy', 'zoro')\n",
      "(19, 21)\n"
     ]
    }
   ],
   "source": [
    "for i in range(0,101,10):\n",
    "    print(i,end=' ',)\n",
    "\n",
    "linesep()\n",
    "\n",
    "for i , string in enumerate(['a','b','c']):\n",
    "    print(i,string)\n",
    "\n",
    "linesep()\n",
    "\n",
    "name = ('luffy','zoro')\n",
    "age = (19,21)\n",
    "\n",
    "for zip in (name,age):\n",
    "    print(zip)"
   ]
  },
  {
   "cell_type": "markdown",
   "id": "1bbfc11e",
   "metadata": {},
   "source": [
    " Loop Control: break, continue, pass"
   ]
  },
  {
   "cell_type": "code",
   "execution_count": 34,
   "id": "9c8bba23",
   "metadata": {},
   "outputs": [
    {
     "name": "stdout",
     "output_type": "stream",
     "text": [
      "0\n",
      "1\n",
      "2\n",
      "\n",
      "----------------------------------------------------------------------------------------------------\n",
      "0\n",
      "1\n",
      "3\n",
      "4\n",
      "\n",
      "----------------------------------------------------------------------------------------------------\n"
     ]
    }
   ],
   "source": [
    "for i in range(5):\n",
    "    if i == 3:\n",
    "        break  # exits at i=3\n",
    "    print(i)\n",
    "\n",
    "linesep()\n",
    "\n",
    "for i in range(5):\n",
    "    if i == 2:\n",
    "        continue  # skips 2\n",
    "    print(i)\n",
    "\n",
    "linesep()\n",
    "\n",
    "\n",
    "for i in range(3):\n",
    "    pass  # useful during development\n"
   ]
  },
  {
   "cell_type": "markdown",
   "id": "bea55acb",
   "metadata": {},
   "source": []
  },
  {
   "cell_type": "code",
   "execution_count": null,
   "id": "a17b4469",
   "metadata": {},
   "outputs": [],
   "source": []
  }
 ],
 "metadata": {
  "kernelspec": {
   "display_name": "Python 3",
   "language": "python",
   "name": "python3"
  },
  "language_info": {
   "codemirror_mode": {
    "name": "ipython",
    "version": 3
   },
   "file_extension": ".py",
   "mimetype": "text/x-python",
   "name": "python",
   "nbconvert_exporter": "python",
   "pygments_lexer": "ipython3",
   "version": "3.12.3"
  }
 },
 "nbformat": 4,
 "nbformat_minor": 5
}
