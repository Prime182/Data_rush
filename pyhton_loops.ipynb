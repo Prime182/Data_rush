{
 "cells": [
  {
   "cell_type": "markdown",
   "id": "5c5063cf",
   "metadata": {},
   "source": [
    "For Loop and While Loop"
   ]
  },
  {
   "cell_type": "code",
   "execution_count": 1,
   "id": "47acf07f",
   "metadata": {},
   "outputs": [
    {
     "name": "stdout",
     "output_type": "stream",
     "text": [
      "['apple', 'mango', 'orange']\n",
      "['apple', 'mango', 'orange']\n",
      "['apple', 'mango', 'orange']\n",
      "1\n",
      "2\n",
      "3\n",
      "4\n",
      "5\n"
     ]
    }
   ],
   "source": [
    "#for loop\n",
    "\n",
    "fruits = [\"apple\",\"mango\",\"orange\"]\n",
    "for fruit in fruits:\n",
    "    print(fruits)\n",
    "\n",
    "for i in range(0,5):\n",
    "    i += 1\n",
    "    print(i)"
   ]
  },
  {
   "cell_type": "code",
   "execution_count": 2,
   "id": "d8134426",
   "metadata": {},
   "outputs": [
    {
     "name": "stdout",
     "output_type": "stream",
     "text": [
      "1\n",
      "2\n",
      "4\n",
      "---------------------------------------------------------------------\n",
      "6\n",
      "7\n",
      "8\n",
      "9\n"
     ]
    }
   ],
   "source": [
    "#while loop\n",
    "\n",
    "num = [1, 2, 4, 6, 8]\n",
    "i = 0  # Initialize index\n",
    "while i < len(num) and num[i] < 5:  # Check index bounds and condition\n",
    "    print(num[i])  # Print the element\n",
    "    i += 1  # Increment index\n",
    "\n",
    "print('---------------------------------------------------------------------')\n",
    "\n",
    "n = 5\n",
    "while n < 10:\n",
    "    n+=1\n",
    "    print(n)\n",
    "    if n==9:\n",
    "     break"
   ]
  },
  {
   "cell_type": "markdown",
   "id": "501036c3",
   "metadata": {},
   "source": [
    "Defining functions"
   ]
  },
  {
   "cell_type": "code",
   "execution_count": 23,
   "id": "94b4b2ad",
   "metadata": {},
   "outputs": [],
   "source": [
    "def linesep():\n",
    "    print('\\n'+'-'*100)"
   ]
  },
  {
   "cell_type": "markdown",
   "id": "6e0369cc",
   "metadata": {},
   "source": [
    "range(), enumerate(), zip()"
   ]
  },
  {
   "cell_type": "code",
   "execution_count": 4,
   "id": "73a3ce55",
   "metadata": {},
   "outputs": [
    {
     "name": "stdout",
     "output_type": "stream",
     "text": [
      "0 10 20 30 40 50 60 70 80 90 100 \n",
      "----------------------------------------------------------------------------------------------------\n",
      "0 a\n",
      "1 b\n",
      "2 c\n",
      "\n",
      "----------------------------------------------------------------------------------------------------\n",
      "('luffy', 'zoro')\n",
      "(19, 21)\n"
     ]
    }
   ],
   "source": [
    "for i in range(0,101,10):\n",
    "    print(i,end=' ',)\n",
    "\n",
    "linesep()\n",
    "\n",
    "for i , string in enumerate(['a','b','c']):\n",
    "    print(i,string)\n",
    "\n",
    "linesep()\n",
    "\n",
    "name = ('luffy','zoro')\n",
    "age = (19,21)\n",
    "\n",
    "for zip in (name,age):\n",
    "    print(zip)"
   ]
  },
  {
   "cell_type": "markdown",
   "id": "1bbfc11e",
   "metadata": {},
   "source": [
    " Loop Control: break, continue, pass"
   ]
  },
  {
   "cell_type": "code",
   "execution_count": 5,
   "id": "9c8bba23",
   "metadata": {},
   "outputs": [
    {
     "name": "stdout",
     "output_type": "stream",
     "text": [
      "0\n",
      "1\n",
      "2\n",
      "\n",
      "----------------------------------------------------------------------------------------------------\n",
      "0\n",
      "1\n",
      "3\n",
      "4\n",
      "\n",
      "----------------------------------------------------------------------------------------------------\n"
     ]
    }
   ],
   "source": [
    "for i in range(5):\n",
    "    if i == 3:\n",
    "        break  # exits at i=3\n",
    "    print(i)\n",
    "\n",
    "linesep()\n",
    "\n",
    "for i in range(5):\n",
    "    if i == 2:\n",
    "        continue  # skips 2\n",
    "    print(i)\n",
    "\n",
    "linesep()\n",
    "\n",
    "\n",
    "for i in range(3):\n",
    "    pass  # useful during development\n"
   ]
  },
  {
   "cell_type": "markdown",
   "id": "bea55acb",
   "metadata": {},
   "source": [
    "def func Parameters & Return Values"
   ]
  },
  {
   "cell_type": "code",
   "execution_count": null,
   "id": "a17b4469",
   "metadata": {},
   "outputs": [
    {
     "name": "stdout",
     "output_type": "stream",
     "text": [
      "8\n",
      "I AM BATMAN\n"
     ]
    }
   ],
   "source": [
    "def add(a,b):\n",
    "    return a +b\n",
    "\n",
    "sum = add(3,5)\n",
    "print(sum)\n",
    "\n",
    "str_concat=add('I AM ','BATMAN')\n",
    "print(str_concat)"
   ]
  },
  {
   "cell_type": "markdown",
   "id": "082f7815",
   "metadata": {},
   "source": [
    "Default & Keyword Arguments"
   ]
  },
  {
   "cell_type": "code",
   "execution_count": 16,
   "id": "4bf77f92",
   "metadata": {},
   "outputs": [
    {
     "name": "stdout",
     "output_type": "stream",
     "text": [
      "Good morning Luffy\n",
      "\n",
      "----------------------------------------------------------------------------------------------------\n",
      "Hello, Guest\n",
      "Hello, Alice\n",
      "\n",
      "----------------------------------------------------------------------------------------------------\n",
      "John Doe\n"
     ]
    }
   ],
   "source": [
    "def greet(x):\n",
    "    print(\"Good morning\",x)\n",
    "\n",
    "greet('Luffy')\n",
    "\n",
    "linesep()\n",
    "\n",
    "def greet(name=\"Guest\"):\n",
    "    print(f\"Hello, {name}\")\n",
    "\n",
    "greet()         # Hello, Guest\n",
    "greet(\"Alice\")  # Hello, Alice\n",
    "\n",
    "linesep()\n",
    "\n",
    "def full_name(first, last):\n",
    "    print(f\"{first} {last}\")\n",
    "\n",
    "full_name(last=\"Doe\", first=\"John\")  # John Doe\n"
   ]
  },
  {
   "cell_type": "markdown",
   "id": "00330ca7",
   "metadata": {},
   "source": [
    "if, elif, else"
   ]
  },
  {
   "cell_type": "code",
   "execution_count": 25,
   "id": "19114436",
   "metadata": {},
   "outputs": [
    {
     "name": "stdout",
     "output_type": "stream",
     "text": [
      "Grade: B\n"
     ]
    }
   ],
   "source": [
    "score = 85\n",
    "\n",
    "if score >= 90:\n",
    "    print(\"Grade: A\")\n",
    "elif score >= 80:\n",
    "    print(\"Grade: B\")\n",
    "elif score >= 70:\n",
    "    print(\"Grade: C\")\n",
    "else:\n",
    "    print(\"Grade: F\")\n"
   ]
  },
  {
   "cell_type": "markdown",
   "id": "4a1df8b9",
   "metadata": {},
   "source": [
    "Nested if"
   ]
  },
  {
   "cell_type": "code",
   "execution_count": 24,
   "id": "6918cc0b",
   "metadata": {},
   "outputs": [
    {
     "name": "stdout",
     "output_type": "stream",
     "text": [
      "You are an adult student.\n"
     ]
    }
   ],
   "source": [
    "age = 20\n",
    "is_student = True\n",
    "\n",
    "if age >= 18:\n",
    "    if is_student:\n",
    "        print(\"You are an adult student.\")\n",
    "    else:\n",
    "        print(\"You are an adult.\")\n",
    "else:\n",
    "    print(\"You are a minor.\")\n"
   ]
  }
 ],
 "metadata": {
  "kernelspec": {
   "display_name": "Python 3",
   "language": "python",
   "name": "python3"
  },
  "language_info": {
   "codemirror_mode": {
    "name": "ipython",
    "version": 3
   },
   "file_extension": ".py",
   "mimetype": "text/x-python",
   "name": "python",
   "nbconvert_exporter": "python",
   "pygments_lexer": "ipython3",
   "version": "3.13.3"
  }
 },
 "nbformat": 4,
 "nbformat_minor": 5
}
