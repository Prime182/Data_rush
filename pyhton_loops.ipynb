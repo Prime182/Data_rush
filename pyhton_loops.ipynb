{
 "cells": [
  {
   "cell_type": "markdown",
   "id": "5c5063cf",
   "metadata": {},
   "source": [
    "For Loop and While Loop"
   ]
  },
  {
   "cell_type": "code",
   "execution_count": 3,
   "id": "47acf07f",
   "metadata": {},
   "outputs": [
    {
     "name": "stdout",
     "output_type": "stream",
     "text": [
      "['apple', 'mango', 'orange']\n",
      "['apple', 'mango', 'orange']\n",
      "['apple', 'mango', 'orange']\n",
      "1\n",
      "2\n",
      "3\n",
      "4\n",
      "5\n"
     ]
    }
   ],
   "source": [
    "#for loop\n",
    "\n",
    "fruits = [\"apple\",\"mango\",\"orange\"]\n",
    "for fruit in fruits:\n",
    "    print(fruits)\n",
    "\n",
    "for i in range(0,5):\n",
    "    i += 1\n",
    "    print(i)"
   ]
  },
  {
   "cell_type": "code",
   "execution_count": 10,
   "id": "d8134426",
   "metadata": {},
   "outputs": [
    {
     "name": "stdout",
     "output_type": "stream",
     "text": [
      "1\n",
      "2\n",
      "4\n"
     ]
    }
   ],
   "source": [
    "num = [1, 2, 4, 6, 8]\n",
    "i = 0  # Initialize index\n",
    "while i < len(num) and num[i] < 5:  # Check index bounds and condition\n",
    "    print(num[i])  # Print the element\n",
    "    i += 1  # Increment index"
   ]
  }
 ],
 "metadata": {
  "kernelspec": {
   "display_name": "Python 3",
   "language": "python",
   "name": "python3"
  },
  "language_info": {
   "codemirror_mode": {
    "name": "ipython",
    "version": 3
   },
   "file_extension": ".py",
   "mimetype": "text/x-python",
   "name": "python",
   "nbconvert_exporter": "python",
   "pygments_lexer": "ipython3",
   "version": "3.12.3"
  }
 },
 "nbformat": 4,
 "nbformat_minor": 5
}
