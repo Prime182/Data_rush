{
 "cells": [
  {
   "cell_type": "markdown",
   "metadata": {},
   "source": [
    "# PYTHON Basics"
   ]
  },
  {
   "cell_type": "markdown",
   "metadata": {},
   "source": [
    "## Comments\n",
    "\n",
    "Comments are essential for making your code readable and understandable. They are ignored by the Python interpreter."
   ]
  },
  {
   "cell_type": "code",
   "execution_count": 1,
   "metadata": {},
   "outputs": [],
   "source": [
    "\n",
    "# This is a single-line comment\n",
    "x = 10  # This is an inline comment\n"
   ]
  },
  {
   "cell_type": "markdown",
   "metadata": {},
   "source": [
    "## String Concatenation\n",
    "\n",
    "String concatenation is the process of joining two or more strings together."
   ]
  },
  {
   "cell_type": "code",
   "execution_count": 2,
   "metadata": {},
   "outputs": [
    {
     "name": "stdout",
     "output_type": "stream",
     "text": [
      "Inime naan dha inga Rangaraya Sakthivel Nayakan\n"
     ]
    }
   ],
   "source": [
    "\n",
    "str1 = 'Inime naan dha inga'\n",
    "str2 = 'Rangaraya Sakthivel Nayakan'\n",
    "concat_str = str1 + \" \" + str2\n",
    "print(concat_str)\n",
    "# Expected Output: Inime naan dha inga Rangaraya Sakthivel Nayakan\n"
   ]
  },
  {
   "cell_type": "markdown",
   "metadata": {},
   "source": [
    "## String Indexing\n",
    "\n",
    "Strings in Python are sequences, and individual characters can be accessed using indexing. Python uses zero-based indexing."
   ]
  },
  {
   "cell_type": "code",
   "execution_count": 3,
   "metadata": {},
   "outputs": [
    {
     "name": "stdout",
     "output_type": "stream",
     "text": [
      "Rangaraya\n"
     ]
    }
   ],
   "source": [
    "\n",
    "# Accessing a substring using slicing\n",
    "print(concat_str[20:29])\n",
    "# Expected Output: Sakthivel\n"
   ]
  },
  {
   "cell_type": "markdown",
   "metadata": {},
   "source": [
    "## String Length\n",
    "\n",
    "The `len()` function returns the number of characters in a string."
   ]
  },
  {
   "cell_type": "code",
   "execution_count": 4,
   "metadata": {},
   "outputs": [
    {
     "name": "stdout",
     "output_type": "stream",
     "text": [
      "47\n"
     ]
    }
   ],
   "source": [
    "\n",
    "print(len(concat_str))\n",
    "# Expected Output: 48\n"
   ]
  },
  {
   "cell_type": "markdown",
   "metadata": {},
   "source": [
    "## String Case Conversion (lower() & upper())\n",
    "\n",
    "The `lower()` method converts all characters in a string to lowercase, and `upper()` converts them to uppercase."
   ]
  },
  {
   "cell_type": "code",
   "execution_count": 5,
   "metadata": {},
   "outputs": [
    {
     "name": "stdout",
     "output_type": "stream",
     "text": [
      "inime naan dha inga RANGARAYA SAKTHIVEL NAYAKAN\n"
     ]
    }
   ],
   "source": [
    "\n",
    "print(concat_str[0:20].lower() + concat_str[20:48].upper())\n",
    "# Expected Output: inime naan dha inga RANGARAYA SAKTHIVEL NAYAKAN\n"
   ]
  },
  {
   "cell_type": "markdown",
   "metadata": {},
   "source": [
    "## Print Function\n",
    "\n",
    "The `print()` function is used to display output to the console."
   ]
  },
  {
   "cell_type": "code",
   "execution_count": 6,
   "metadata": {},
   "outputs": [
    {
     "name": "stdout",
     "output_type": "stream",
     "text": [
      "Thamasuh thamasu\n"
     ]
    }
   ],
   "source": [
    "\n",
    "ganesh = \"Thamasuh thamasu\"\n",
    "print(ganesh)\n",
    "# Expected Output: Thamasuh thamasu\n"
   ]
  },
  {
   "cell_type": "markdown",
   "metadata": {},
   "source": [
    "## String Replacement (replace())\n",
    "\n",
    "The `replace()` method returns a new string with all occurrences of a substring replaced by another substring."
   ]
  },
  {
   "cell_type": "code",
   "execution_count": 7,
   "metadata": {},
   "outputs": [
    {
     "name": "stdout",
     "output_type": "stream",
     "text": [
      "Neenga eppo vazhaporeenga?\n"
     ]
    }
   ],
   "source": [
    "\n",
    "ganesh_1 = ganesh.replace(\"Thamasuh\", \"Neenga eppo\")\n",
    "ganesh = ganesh_1.replace('thamasu', 'vazhaporeenga?')\n",
    "print(ganesh)\n",
    "# Expected Output: Neenga eppo vazhaporeenga?\n"
   ]
  },
  {
   "cell_type": "markdown",
   "metadata": {},
   "source": [
    "## String Slicing and Concatenation\n",
    "\n",
    "Combining slicing and concatenation allows for flexible manipulation of strings."
   ]
  },
  {
   "cell_type": "code",
   "execution_count": 8,
   "metadata": {},
   "outputs": [
    {
     "name": "stdout",
     "output_type": "stream",
     "text": [
      "Rangaraya Sakthivel Nayakan, Neenga eppo vazhaporeenga?\n"
     ]
    }
   ],
   "source": [
    "\n",
    "new_str = concat_str[20:48] + \", \" + ganesh\n",
    "print(new_str)\n",
    "# Expected Output: Rangaraya Sakthivel Nayakan, Neenga eppo vazhaporeenga?\n"
   ]
  },
  {
   "cell_type": "markdown",
   "metadata": {},
   "source": [
    "## String Splitting (split())\n",
    "\n",
    "The `split()` method splits a string into a list of substrings based on a delimiter."
   ]
  },
  {
   "cell_type": "code",
   "execution_count": 9,
   "metadata": {},
   "outputs": [
    {
     "name": "stdout",
     "output_type": "stream",
     "text": [
      "['Rangaraya', 'Sakthivel', 'Nayakan,', 'Neenga', 'eppo', 'vazhaporeenga?'] ['Rangaraya Sakthivel Nayakan', ' Neenga eppo vazhaporeenga?']\n"
     ]
    }
   ],
   "source": [
    "\n",
    "split1 = new_str.split()  # Splits by whitespace by default\n",
    "split2 = new_str.split(\",\") # Splits by comma\n",
    "print(split1, split2)\n",
    "# Expected Output: ['Rangaraya', 'Sakthivel', 'Nayakan,', 'Neenga', 'eppo', 'vazhaporeenga?'] ['Rangaraya Sakthivel Nayakan', ' Neenga eppo vazhaporeenga?']\n"
   ]
  },
  {
   "cell_type": "markdown",
   "metadata": {},
   "source": [
    "## String Stripping (strip())\n",
    "\n",
    "The `strip()` method removes leading and trailing whitespace (or specified characters) from a string."
   ]
  },
  {
   "cell_type": "code",
   "execution_count": 10,
   "metadata": {},
   "outputs": [
    {
     "name": "stdout",
     "output_type": "stream",
     "text": [
      " Neenga eppo vazhaporeenga?\n",
      "Neenga eppo vazhaporeenga?\n"
     ]
    }
   ],
   "source": [
    "\n",
    "# Original substring\n",
    "print(new_str[28:55])\n",
    "# Expected Output: Sakthivel Nayakan, Neenga eppo\n",
    "# Strips extra spaces\n",
    "print(new_str[28:55].strip())\n",
    "# Expected Output: Sakthivel Nayakan, Neenga eppo\n"
   ]
  },
  {
   "cell_type": "markdown",
   "metadata": {},
   "source": [
    "# DATA STRUCTURES"
   ]
  },
  {
   "cell_type": "markdown",
   "metadata": {},
   "source": [
    "## List\n",
    "\n",
    "Lists are ordered, mutable (changeable) sequences of items. They are defined by enclosing elements in square brackets `[]`."
   ]
  },
  {
   "cell_type": "code",
   "execution_count": 11,
   "metadata": {},
   "outputs": [
    {
     "name": "stdout",
     "output_type": "stream",
     "text": [
      "['Prime', 'Viper', 'Ashi', 'Carnage', 'Thunder']\n"
     ]
    }
   ],
   "source": [
    "\n",
    "# Creating a list\n",
    "oxy = [\"Prime\", \"Viper\", \"Ashi\", \"Carnage\", \"Thunder\"]\n",
    "print(oxy)\n",
    "# Expected Output: ['Prime', 'Viper', 'Ashi', 'Carnage', 'Thunder']\n"
   ]
  },
  {
   "cell_type": "markdown",
   "metadata": {},
   "source": [
    "### List Methods\n",
    "\n",
    "#### append()\n",
    "\n",
    "Adds a single element to the end of the list."
   ]
  },
  {
   "cell_type": "code",
   "execution_count": 12,
   "metadata": {},
   "outputs": [
    {
     "name": "stdout",
     "output_type": "stream",
     "text": [
      "['Prime', 'Viper', 'Ashi', 'Carnage', 'Thunder', 'Poison', 'Rahul', 'Tharani']\n"
     ]
    }
   ],
   "source": [
    "\n",
    "oxy.append(\"Poison\")\n",
    "oxy.append(\"Rahul\")\n",
    "oxy.append(\"Tharani\")\n",
    "print(oxy)\n",
    "# Expected Output: ['Prime', 'Viper', 'Ashi', 'Carnage', 'Thunder', 'Poison', 'Rahul', 'Tharani']\n"
   ]
  },
  {
   "cell_type": "markdown",
   "metadata": {},
   "source": [
    "#### count()\n",
    "\n",
    "Returns the number of times a specified value appears in the list."
   ]
  },
  {
   "cell_type": "code",
   "execution_count": 13,
   "metadata": {},
   "outputs": [
    {
     "name": "stdout",
     "output_type": "stream",
     "text": [
      "1\n"
     ]
    }
   ],
   "source": [
    "\n",
    "print(oxy.count('Prime'))\n",
    "# Expected Output: 1\n"
   ]
  },
  {
   "cell_type": "markdown",
   "metadata": {},
   "source": [
    "#### copy()\n",
    "\n",
    "Returns a shallow copy of the list. Changes to the new list will not affect the original, unless the elements are mutable objects themselves."
   ]
  },
  {
   "cell_type": "code",
   "execution_count": 14,
   "metadata": {},
   "outputs": [
    {
     "name": "stdout",
     "output_type": "stream",
     "text": [
      "['Prime', 'Viper', 'Ashi', 'Carnage', 'Thunder', 'Poison', 'Rahul', 'Tharani']\n",
      "['Prime', 'Viper', 'Ashi', 'Carnage', 'Thunder', 'Poison', 'Rahul', 'Tharani', 'omen']\n",
      "['Prime', 'Viper', 'Ashi', 'Carnage', 'Thunder', 'Poison', 'Rahul', 'Tharani']\n"
     ]
    }
   ],
   "source": [
    "\n",
    "oxy1 = oxy.copy()\n",
    "print(oxy1)\n",
    "# Expected Output: ['Prime', 'Viper', 'Ashi', 'Carnage', 'Thunder', 'Poison', 'Rahul', 'Tharani']\n",
    "oxy1.append(\"omen\")\n",
    "print(oxy1)\n",
    "# Expected Output: ['Prime', 'Viper', 'Ashi', 'Carnage', 'Thunder', 'Poison', 'Rahul', 'Tharani', 'omen']\n",
    "print(oxy) # Original list remains unchanged\n",
    "# Expected Output: ['Prime', 'Viper', 'Ashi', 'Carnage', 'Thunder', 'Poison', 'Rahul', 'Tharani']\n"
   ]
  },
  {
   "cell_type": "markdown",
   "metadata": {},
   "source": [
    "#### del (Deleting Elements)\n",
    "\n",
    "The `del` keyword can be used to remove an element at a specific index or to delete the entire list."
   ]
  },
  {
   "cell_type": "code",
   "execution_count": 15,
   "metadata": {},
   "outputs": [
    {
     "name": "stdout",
     "output_type": "stream",
     "text": [
      "['Prime', 'Viper', 'Ashi', 'Carnage', 'Thunder', 'Poison', 'Rahul', 'Tharani']\n"
     ]
    }
   ],
   "source": [
    "\n",
    "del oxy1[8] # Deletes the element at index 8 ('omen')\n",
    "print(oxy1)\n",
    "# Expected Output: ['Prime', 'Viper', 'Ashi', 'Carnage', 'Thunder', 'Poison', 'Rahul', 'Tharani']\n"
   ]
  },
  {
   "cell_type": "markdown",
   "metadata": {},
   "source": [
    "#### extend()\n",
    "\n",
    "Adds all the elements of an iterable (like another list, tuple, set, or string) to the end of the current list."
   ]
  },
  {
   "cell_type": "code",
   "execution_count": 16,
   "metadata": {},
   "outputs": [
    {
     "name": "stdout",
     "output_type": "stream",
     "text": [
      "['a', 'b', 'c', 'd']\n",
      "['a', 'b', 'c', 'd', 'f', 'g', 'e']\n",
      "['a', 'b', 'c', 'd', 'e', 'f', 'g']\n"
     ]
    }
   ],
   "source": [
    "\n",
    "alph = [\"a\",\"b\",\"c\",\"d\"] # list\n",
    "print(alph)\n",
    "# Expected Output: ['a', 'b', 'c', 'd']\n",
    "\n",
    "alhp2 ={\"e\",\"f\",\"g\"} # set (order is not guaranteed when extending from a set)\n",
    "alph.extend(alhp2)\n",
    "print(alph)\n",
    "# Expected Output (order of e,f,g might vary): ['a', 'b', 'c', 'd', 'e', 'f', 'g']\n",
    "\n",
    "# Another way to concatenate lists (creates a new list)\n",
    "alph = [\"a\",\"b\",\"c\",\"d\"] # list\n",
    "alhp2 =(\"e\",\"f\",\"g\") # tuple\n",
    "alph = alph + list(alhp2) # Convert tuple to list for concatenation\n",
    "print(alph)\n",
    "# Expected Output: ['a', 'b', 'c', 'd', 'e', 'f', 'g']\n"
   ]
  },
  {
   "cell_type": "markdown",
   "metadata": {},
   "source": [
    "#### index()\n",
    "\n",
    "Returns the index of the first occurrence of a specified value."
   ]
  },
  {
   "cell_type": "code",
   "execution_count": 17,
   "metadata": {},
   "outputs": [
    {
     "name": "stdout",
     "output_type": "stream",
     "text": [
      "a\n"
     ]
    }
   ],
   "source": [
    "\n",
    "print(alph[-7]) # Negative indexing: -1 refers to the last element, -7 refers to the 7th element from the end\n",
    "# Expected Output: a\n"
   ]
  },
  {
   "cell_type": "markdown",
   "metadata": {},
   "source": [
    "#### insert()\n",
    "\n",
    "Adds an element at a specified position."
   ]
  },
  {
   "cell_type": "code",
   "execution_count": 18,
   "metadata": {},
   "outputs": [
    {
     "name": "stdout",
     "output_type": "stream",
     "text": [
      "['a', 'b', 'c', 'd', 'e', 'f', 'g', 'h']\n"
     ]
    }
   ],
   "source": [
    "\n",
    "alph1 = alph.copy()\n",
    "alph1.insert(8,'h') # add an element 'h' at index 8\n",
    "print(alph1)\n",
    "# Expected Output: ['a', 'b', 'c', 'd', 'e', 'f', 'g', 'h']\n"
   ]
  },
  {
   "cell_type": "markdown",
   "metadata": {},
   "source": [
    "#### Modifying List Elements\n",
    "\n",
    "Elements in a list can be modified by assigning a new value to a specific index."
   ]
  },
  {
   "cell_type": "code",
   "execution_count": 19,
   "metadata": {},
   "outputs": [
    {
     "name": "stdout",
     "output_type": "stream",
     "text": [
      "[1, 'b', 'c', 'd', 'e', 'f', 'g', 'h']\n"
     ]
    }
   ],
   "source": [
    "\n",
    "alph1[0] = 1 # Changes the first element from 'a' to 1\n",
    "print(alph1)\n",
    "# Expected Output: [1, 'b', 'c', 'd', 'e', 'f', 'g', 'h']\n"
   ]
  },
  {
   "cell_type": "markdown",
   "metadata": {},
   "source": [
    "#### pop()\n",
    "\n",
    "Removes and returns the element at a specified index (defaults to the last element)."
   ]
  },
  {
   "cell_type": "code",
   "execution_count": 20,
   "metadata": {},
   "outputs": [
    {
     "name": "stdout",
     "output_type": "stream",
     "text": [
      "h\n",
      "[1, 'b', 'c', 'd', 'e', 'f', 'g']\n",
      "b\n",
      "[1, 'c', 'd', 'e', 'f', 'g']\n"
     ]
    }
   ],
   "source": [
    "\n",
    "removed_element = alph1.pop() # Removes and returns the last element ('h')\n",
    "print(removed_element)\n",
    "# Expected Output: h\n",
    "print(alph1)\n",
    "# Expected Output: [1, 'b', 'c', 'd', 'e', 'f', 'g']\n",
    "\n",
    "removed_element1 = alph1.pop(1) # Removes and returns the element at index 1 ('b')\n",
    "print(removed_element1)\n",
    "# Expected Output: b\n",
    "print(alph1)\n",
    "# Expected Output: [1, 'c', 'd', 'e', 'f', 'g']\n"
   ]
  },
  {
   "cell_type": "markdown",
   "metadata": {},
   "source": [
    "#### remove()\n",
    "\n",
    "Removes the first occurrence of a specified value."
   ]
  },
  {
   "cell_type": "code",
   "execution_count": 21,
   "metadata": {},
   "outputs": [
    {
     "name": "stdout",
     "output_type": "stream",
     "text": [
      "[1, 'c', 'd', 'e', 'f', 'g']\n",
      "[1, 'd', 'e', 'f', 'g']\n"
     ]
    }
   ],
   "source": [
    "\n",
    "print(alph1)\n",
    "# Expected Output: [1, 'c', 'd', 'e', 'f', 'g']\n",
    "alph1.remove('c') # Removes the value 'c'\n",
    "print(alph1)\n",
    "# Expected Output: [1, 'd', 'e', 'f', 'g']\n"
   ]
  },
  {
   "cell_type": "markdown",
   "metadata": {},
   "source": [
    "#### List Slicing\n",
    "\n",
    "Slicing allows you to extract a portion of a list. `[start:end:step]`"
   ]
  },
  {
   "cell_type": "code",
   "execution_count": 22,
   "metadata": {},
   "outputs": [
    {
     "name": "stdout",
     "output_type": "stream",
     "text": [
      "[2, 4, 6, 8, 10]\n"
     ]
    }
   ],
   "source": [
    "\n",
    "list1 = [1,2,3,4,5,6,7,8,9,10]\n",
    "print(list1[1:10:2]) # Elements from index 1 up to (but not including) 10, with a step of 2\n",
    "# Expected Output: [2, 4, 6, 8, 10]\n"
   ]
  },
  {
   "cell_type": "markdown",
   "metadata": {},
   "source": [
    "#### sort()\n",
    "\n",
    "Sorts the elements of the list in ascending order by default. Modifies the list in-place."
   ]
  },
  {
   "cell_type": "code",
   "execution_count": 23,
   "metadata": {},
   "outputs": [
    {
     "name": "stdout",
     "output_type": "stream",
     "text": [
      "['d', 'e', 'f', 'g', 'a']\n",
      "['a', 'd', 'e', 'f', 'g']\n"
     ]
    }
   ],
   "source": [
    "\n",
    "alph1.pop(0) # Remove the element at index 0 (which is 1)\n",
    "alph1.insert(5,'a') # Insert 'a' at index 5\n",
    "print(alph1)\n",
    "# Expected Output: ['d', 'e', 'f', 'g', 'a'] (assuming previous state was [1, 'd', 'e', 'f', 'g'])\n",
    "alph1.sort()\n",
    "print(alph1)\n",
    "# Expected Output: ['a', 'd', 'e', 'f', 'g']\n"
   ]
  },
  {
   "cell_type": "markdown",
   "metadata": {},
   "source": [
    "## Tuple\n",
    "\n",
    "Tuples are ordered, immutable (unchangeable) sequences of items. They are defined by enclosing elements in parentheses `()`."
   ]
  },
  {
   "cell_type": "code",
   "execution_count": 24,
   "metadata": {},
   "outputs": [
    {
     "name": "stdout",
     "output_type": "stream",
     "text": [
      "('apple', 'banana', 'apple', 'orange', 'apple', 'banana')\n"
     ]
    }
   ],
   "source": [
    "\n",
    "# Creating a tuple\n",
    "fruits = ('apple','banana','apple','orange','apple','banana')\n",
    "print(fruits)\n",
    "# Expected Output: ('apple', 'banana', 'apple', 'orange', 'apple', 'banana')\n"
   ]
  },
  {
   "cell_type": "markdown",
   "metadata": {},
   "source": [
    "### Tuple Methods\n",
    "\n",
    "#### count()\n",
    "\n",
    "Returns the number of times a specified value appears in the tuple."
   ]
  },
  {
   "cell_type": "code",
   "execution_count": 25,
   "metadata": {},
   "outputs": [
    {
     "name": "stdout",
     "output_type": "stream",
     "text": [
      "Count of apple is  3\n"
     ]
    }
   ],
   "source": [
    "\n",
    "apple_count = fruits.count('apple')\n",
    "print('Count of apple is ',apple_count)\n",
    "# Expected Output: Count of apple is  3\n"
   ]
  },
  {
   "cell_type": "markdown",
   "metadata": {},
   "source": [
    "#### index()\n",
    "\n",
    "Returns the index of the first occurrence of a specified value."
   ]
  },
  {
   "cell_type": "code",
   "execution_count": 26,
   "metadata": {},
   "outputs": [
    {
     "name": "stdout",
     "output_type": "stream",
     "text": [
      "banana\n"
     ]
    }
   ],
   "source": [
    "\n",
    "print(fruits[1])\n",
    "# Expected Output: banana\n"
   ]
  },
  {
   "cell_type": "markdown",
   "metadata": {},
   "source": [
    "#### sum()\n",
    "\n",
    "Returns the sum of all elements in a tuple (if they are numeric)."
   ]
  },
  {
   "cell_type": "code",
   "execution_count": 27,
   "metadata": {},
   "outputs": [
    {
     "name": "stdout",
     "output_type": "stream",
     "text": [
      "105\n"
     ]
    }
   ],
   "source": [
    "\n",
    "num = (10,20,30,45)\n",
    "print(sum(num))\n",
    "# Expected Output: 105\n"
   ]
  },
  {
   "cell_type": "markdown",
   "metadata": {},
   "source": [
    "#### min() and max()\n",
    "\n",
    "Returns the minimum and maximum element in a tuple."
   ]
  },
  {
   "cell_type": "code",
   "execution_count": 28,
   "metadata": {},
   "outputs": [
    {
     "name": "stdout",
     "output_type": "stream",
     "text": [
      "Min =  10  Max =  45\n"
     ]
    }
   ],
   "source": [
    "\n",
    "print('Min = ', min(num), ' Max = ', max(num))\n",
    "# Expected Output: Min =  10  Max =  45\n"
   ]
  },
  {
   "cell_type": "markdown",
   "metadata": {},
   "source": [
    "#### len()\n",
    "\n",
    "Returns the number of elements in a tuple."
   ]
  },
  {
   "cell_type": "code",
   "execution_count": 29,
   "metadata": {},
   "outputs": [
    {
     "name": "stdout",
     "output_type": "stream",
     "text": [
      "4\n"
     ]
    }
   ],
   "source": [
    "\n",
    "print(len(num))\n",
    "# Expected Output: 4\n"
   ]
  },
  {
   "cell_type": "markdown",
   "metadata": {},
   "source": [
    "## Dictionaries\n",
    "\n",
    "Dictionaries are unordered collections of key-value pairs. They are mutable and optimized for retrieving values when the key is known. Defined by enclosing elements in curly braces `{}`."
   ]
  },
  {
   "cell_type": "code",
   "execution_count": 30,
   "metadata": {},
   "outputs": [
    {
     "name": "stdout",
     "output_type": "stream",
     "text": [
      "{'Name': 'Luffy', 'Age': 19, 'position': 'captain'}\n"
     ]
    }
   ],
   "source": [
    "\n",
    "# Creating a dictionary\n",
    "pirate = {\"Name\":\"Luffy\",\"Age\":19,'position':'captain'}\n",
    "print(pirate)\n",
    "# Expected Output: {'Name': 'Luffy', 'Age': 19, 'position': 'captain'}\n"
   ]
  },
  {
   "cell_type": "markdown",
   "metadata": {},
   "source": [
    "### Dictionary Operations\n",
    "\n",
    "#### Accessing Values\n",
    "\n",
    "Values are accessed using their corresponding keys."
   ]
  },
  {
   "cell_type": "code",
   "execution_count": 31,
   "metadata": {},
   "outputs": [
    {
     "name": "stdout",
     "output_type": "stream",
     "text": [
      "Luffy\n"
     ]
    }
   ],
   "source": [
    "\n",
    "name = pirate[\"Name\"]\n",
    "print(name)\n",
    "# Expected Output: Luffy\n"
   ]
  },
  {
   "cell_type": "markdown",
   "metadata": {},
   "source": [
    "#### Modifying Values\n",
    "\n",
    "Values associated with a key can be changed."
   ]
  },
  {
   "cell_type": "code",
   "execution_count": 32,
   "metadata": {},
   "outputs": [
    {
     "name": "stdout",
     "output_type": "stream",
     "text": [
      "{'Name': 'Luffy', 'Age': 17, 'position': 'captain'}\n"
     ]
    }
   ],
   "source": [
    "\n",
    "pirate[\"Age\"] = 17\n",
    "print(pirate)\n",
    "# Expected Output: {'Name': 'Luffy', 'Age': 17, 'position': 'captain'}\n"
   ]
  },
  {
   "cell_type": "markdown",
   "metadata": {},
   "source": [
    "#### Deleting Key-Value Pairs (del)\n",
    "\n",
    "The `del` keyword removes a key-value pair from the dictionary."
   ]
  },
  {
   "cell_type": "code",
   "execution_count": 33,
   "metadata": {},
   "outputs": [
    {
     "name": "stdout",
     "output_type": "stream",
     "text": [
      "{'Name': 'Luffy', 'Age': 17}\n"
     ]
    }
   ],
   "source": [
    "\n",
    "del pirate[\"position\"]\n",
    "print(pirate)\n",
    "# Expected Output: {'Name': 'Luffy', 'Age': 17}\n"
   ]
  },
  {
   "cell_type": "markdown",
   "metadata": {},
   "source": [
    "#### Adding New Key-Value Pairs\n",
    "\n",
    "New key-value pairs can be added by assigning a value to a new key."
   ]
  },
  {
   "cell_type": "code",
   "execution_count": 34,
   "metadata": {},
   "outputs": [
    {
     "name": "stdout",
     "output_type": "stream",
     "text": [
      "{'Name': 'Luffy', 'Age': 17, 'level': 'Worst Gen'}\n"
     ]
    }
   ],
   "source": [
    "\n",
    "pirate[\"level\"]= \"Worst Gen\"\n",
    "print(pirate)\n",
    "# Expected Output: {'Name': 'Luffy', 'Age': 17, 'level': 'Worst Gen'}\n"
   ]
  },
  {
   "cell_type": "markdown",
   "metadata": {},
   "source": [
    "#### update()\n",
    "\n",
    "Adds elements to the dictionary or updates existing ones."
   ]
  },
  {
   "cell_type": "code",
   "execution_count": 35,
   "metadata": {},
   "outputs": [
    {
     "name": "stdout",
     "output_type": "stream",
     "text": [
      "{'Name': 'Luffy', 'Age': 17, 'level': 'Yonko'}\n"
     ]
    }
   ],
   "source": [
    "\n",
    "pirate.update({'level':'Yonko'})\n",
    "print(pirate)\n",
    "# Expected Output: {'Name': 'Luffy', 'Age': 17, 'level': 'Yonko'}\n"
   ]
  },
  {
   "cell_type": "markdown",
   "metadata": {},
   "source": [
    "#### clear()\n",
    "\n",
    "Removes all items from the dictionary."
   ]
  },
  {
   "cell_type": "code",
   "execution_count": 36,
   "metadata": {},
   "outputs": [
    {
     "name": "stdout",
     "output_type": "stream",
     "text": [
      "{}\n"
     ]
    }
   ],
   "source": [
    "\n",
    "pirate.clear()\n",
    "print(pirate)\n",
    "# Expected Output: {}\n"
   ]
  },
  {
   "cell_type": "markdown",
   "metadata": {},
   "source": [
    "#### Checking for Key Existence\n",
    "\n",
    "Use the `in` keyword to check if a key exists in the dictionary."
   ]
  },
  {
   "cell_type": "code",
   "execution_count": 37,
   "metadata": {},
   "outputs": [
    {
     "name": "stdout",
     "output_type": "stream",
     "text": [
      "Name does not exist in the Dict\n"
     ]
    }
   ],
   "source": [
    "\n",
    "if 'Name' in pirate:\n",
    "    print(\"Name exists in the Dict\")\n",
    "else:\n",
    "    print(\"Name does not exist in the Dict\")\n",
    "# Expected Output: Name does not exist in the Dict (since pirate was cleared)\n"
   ]
  },
  {
   "cell_type": "markdown",
   "metadata": {},
   "source": [
    "#### Getting Keys, Values, and Items\n",
    "\n",
    "- `keys()`: Returns a view object that displays a list of all the keys in the dictionary.\n",
    "- `values()`: Returns a view object that displays a list of all the values in the dictionary.\n",
    "- `items()`: Returns a view object that displays a list of a dictionary's key-value tuple pairs."
   ]
  },
  {
   "cell_type": "code",
   "execution_count": 38,
   "metadata": {},
   "outputs": [
    {
     "name": "stdout",
     "output_type": "stream",
     "text": [
      "['Name', 'Age', 'position']\n",
      "['Luffy', 19, 'captain']\n",
      "[('Name', 'Luffy'), ('Age', 19), ('position', 'captain')]\n"
     ]
    }
   ],
   "source": [
    "\n",
    "pirate = {\"Name\":\"Luffy\",\"Age\":19,'position':'captain'} # Re-initializing for demonstration\n",
    "print(list(pirate.keys()))\n",
    "# Expected Output: ['Name', 'Age', 'position']\n",
    "print(list(pirate.values()))\n",
    "# Expected Output: ['Luffy', 19, 'captain']\n",
    "print(list(pirate.items()))\n",
    "# Expected Output: [('Name', 'Luffy'), ('Age', 19), ('position', 'captain')]\n"
   ]
  },
  {
   "cell_type": "markdown",
   "metadata": {},
   "source": [
    "## Sets\n",
    "\n",
    "Sets are unordered collections of unique items. They are mutable. Defined by enclosing elements in curly braces `{}` or using the `set()` constructor."
   ]
  },
  {
   "cell_type": "code",
   "execution_count": 39,
   "metadata": {},
   "outputs": [
    {
     "name": "stdout",
     "output_type": "stream",
     "text": [
      "{'banana', 'apple', 'orange'}\n"
     ]
    }
   ],
   "source": [
    "\n",
    "# Creating a set from a tuple (duplicates are automatically removed)\n",
    "fruits = ('apple','banana','apple','orange','apple','banana')\n",
    "fruits = set(fruits)\n",
    "print(fruits)\n",
    "# Expected Output (order may vary): {'banana', 'orange', 'apple'}\n"
   ]
  },
  {
   "cell_type": "markdown",
   "metadata": {},
   "source": [
    "### Set Methods\n",
    "\n",
    "#### add()\n",
    "\n",
    "Adds a single element to the set. If the element is already present, it does nothing."
   ]
  },
  {
   "cell_type": "code",
   "execution_count": 40,
   "metadata": {},
   "outputs": [
    {
     "name": "stdout",
     "output_type": "stream",
     "text": [
      "{'banana', 'apple', 'mango', 'orange'}\n"
     ]
    }
   ],
   "source": [
    "\n",
    "fruits.add(\"mango\")\n",
    "print(fruits)\n",
    "# Expected Output (order may vary): {'banana', 'orange', 'apple', 'mango'}\n"
   ]
  },
  {
   "cell_type": "markdown",
   "metadata": {},
   "source": [
    "#### discard()\n",
    "\n",
    "Removes a specified element from the set. If the element is not found, it does nothing."
   ]
  },
  {
   "cell_type": "code",
   "execution_count": 41,
   "metadata": {},
   "outputs": [
    {
     "name": "stdout",
     "output_type": "stream",
     "text": [
      "{'banana', 'apple', 'mango'}\n"
     ]
    }
   ],
   "source": [
    "\n",
    "fruits.discard('orange')\n",
    "print(fruits)\n",
    "# Expected Output (order may vary): {'banana', 'apple', 'mango'}\n"
   ]
  },
  {
   "cell_type": "markdown",
   "metadata": {},
   "source": [
    "#### remove()\n",
    "\n",
    "Removes a specified element from the set. If the element is not found, it raises a `KeyError`."
   ]
  },
  {
   "cell_type": "code",
   "execution_count": 42,
   "metadata": {},
   "outputs": [],
   "source": [
    "\n",
    "# fruits.remove('non_existent_fruit') # This would raise a KeyError\n"
   ]
  },
  {
   "cell_type": "markdown",
   "metadata": {},
   "source": [
    "#### union(), intersection(), difference()\n",
    "\n",
    "Sets support mathematical set operations."
   ]
  },
  {
   "cell_type": "code",
   "execution_count": 43,
   "metadata": {},
   "outputs": [
    {
     "name": "stdout",
     "output_type": "stream",
     "text": [
      "Union: {1, 2, 3, 4, 5, 6}\n",
      "Intersection: {3, 4}\n",
      "Difference (set1 - set2): {1, 2}\n"
     ]
    }
   ],
   "source": [
    "\n",
    "set1 = {1, 2, 3, 4}\n",
    "set2 = {3, 4, 5, 6}\n",
    "\n",
    "print(\"Union:\", set1.union(set2)) # All unique elements from both sets\n",
    "# Expected Output: Union: {1, 2, 3, 4, 5, 6}\n",
    "\n",
    "print(\"Intersection:\", set1.intersection(set2)) # Common elements\n",
    "# Expected Output: Intersection: {3, 4}\n",
    "\n",
    "print(\"Difference (set1 - set2):\", set1.difference(set2)) # Elements in set1 but not in set2\n",
    "# Expected Output: Difference (set1 - set2): {1, 2}\n"
   ]
  }
 ],
 "metadata": {
  "kernelspec": {
   "display_name": "Python 3",
   "language": "python",
   "name": "python3"
  },
  "language_info": {
   "codemirror_mode": {
    "name": "ipython",
    "version": 3
   },
   "file_extension": ".py",
   "mimetype": "text/x-python",
   "name": "python",
   "nbconvert_exporter": "python",
   "pygments_lexer": "ipython3",
   "version": "3.12.3"
  }
 },
 "nbformat": 4,
 "nbformat_minor": 4
}
