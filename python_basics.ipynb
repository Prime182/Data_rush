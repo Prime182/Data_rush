{
 "cells": [
  {
   "cell_type": "markdown",
   "metadata": {},
   "source": [
    "PYTHON Basics\n"
   ]
  },
  {
   "cell_type": "code",
   "execution_count": null,
   "metadata": {},
   "outputs": [],
   "source": [
    "#comments\n",
    "#this is a comment"
   ]
  },
  {
   "cell_type": "code",
   "execution_count": 3,
   "metadata": {},
   "outputs": [
    {
     "name": "stdout",
     "output_type": "stream",
     "text": [
      "Inime naan dha inga Rangaraya Sakthivel Nayakan\n"
     ]
    }
   ],
   "source": [
    "#concat\n",
    "\n",
    "str1 = 'Inime naan dha inga'\n",
    "str2 = 'Rangaraya Sakthivel Nayakan'\n",
    "concat_str = str1 + \" \" +str2\n",
    "print(concat_str)"
   ]
  },
  {
   "cell_type": "code",
   "execution_count": 6,
   "metadata": {},
   "outputs": [
    {
     "data": {
      "text/plain": [
       "'Rangaraya'"
      ]
     },
     "execution_count": 6,
     "metadata": {},
     "output_type": "execute_result"
    }
   ],
   "source": [
    "#indexing\n",
    "concat_str[20:29]"
   ]
  },
  {
   "cell_type": "code",
   "execution_count": 7,
   "metadata": {},
   "outputs": [
    {
     "data": {
      "text/plain": [
       "47"
      ]
     },
     "execution_count": 7,
     "metadata": {},
     "output_type": "execute_result"
    }
   ],
   "source": [
    "#length\n",
    "len(concat_str)"
   ]
  },
  {
   "cell_type": "code",
   "execution_count": 8,
   "metadata": {},
   "outputs": [
    {
     "data": {
      "text/plain": [
       "'inime naan dha inga RANGARAYA SAKTHIVEL NAYAKAN'"
      ]
     },
     "execution_count": 8,
     "metadata": {},
     "output_type": "execute_result"
    }
   ],
   "source": [
    "#lower & upper\n",
    "concat_str[0:20].lower() + concat_str[20:48].upper()"
   ]
  },
  {
   "cell_type": "code",
   "execution_count": 22,
   "metadata": {},
   "outputs": [
    {
     "name": "stdout",
     "output_type": "stream",
     "text": [
      "Thamasuh thamasu\n"
     ]
    }
   ],
   "source": [
    "#print\n",
    "ganesh = \"Thamasuh thamasu\"\n",
    "print(ganesh)"
   ]
  },
  {
   "cell_type": "code",
   "execution_count": 23,
   "metadata": {},
   "outputs": [
    {
     "name": "stdout",
     "output_type": "stream",
     "text": [
      "Neenga eppo vazhaporeenga?\n"
     ]
    }
   ],
   "source": [
    "#replace\n",
    "ganesh_1 = ganesh.replace(\"Thamasuh\", \"Neenga eppo\")\n",
    "ganesh = ganesh_1.replace('thamasu', 'vazhaporeenga?')\n",
    "\n",
    "print(ganesh)"
   ]
  },
  {
   "cell_type": "code",
   "execution_count": 32,
   "metadata": {},
   "outputs": [
    {
     "name": "stdout",
     "output_type": "stream",
     "text": [
      "Rangaraya Sakthivel Nayakan, Neenga eppo vazhaporeenga?\n"
     ]
    }
   ],
   "source": [
    "#slicing and concat\n",
    "new_str = concat_str[20:48] + \", \" + ganesh\n",
    "print(new_str)"
   ]
  },
  {
   "cell_type": "code",
   "execution_count": 44,
   "metadata": {},
   "outputs": [
    {
     "name": "stdout",
     "output_type": "stream",
     "text": [
      "['Rangaraya', 'Sakthivel', 'Nayakan,', 'Neenga', 'eppo', 'vazhaporeenga?'] ['Rangaraya Sakthivel Nayakan', ' Neenga eppo vazhaporeenga?']\n"
     ]
    }
   ],
   "source": [
    "#split\n",
    "split1 = new_str.split()\n",
    "split2 = new_str.split(\",\")\n",
    "print(split1,split2)"
   ]
  },
  {
   "cell_type": "code",
   "execution_count": 66,
   "metadata": {},
   "outputs": [
    {
     "data": {
      "text/plain": [
       "' Neenga eppo vazhaporeenga?'"
      ]
     },
     "execution_count": 66,
     "metadata": {},
     "output_type": "execute_result"
    }
   ],
   "source": [
    "#strip\n",
    "new_str[28:55]\n"
   ]
  },
  {
   "cell_type": "code",
   "execution_count": 67,
   "metadata": {},
   "outputs": [
    {
     "data": {
      "text/plain": [
       "'Neenga eppo vazhaporeenga?'"
      ]
     },
     "execution_count": 67,
     "metadata": {},
     "output_type": "execute_result"
    }
   ],
   "source": [
    "#strips extra spaces\n",
    "new_str[28:55].strip()"
   ]
  },
  {
   "cell_type": "markdown",
   "metadata": {},
   "source": [
    "DATA STRUCTURES"
   ]
  },
  {
   "cell_type": "code",
   "execution_count": 115,
   "metadata": {},
   "outputs": [
    {
     "name": "stdout",
     "output_type": "stream",
     "text": [
      "['Prime', 'Viper', 'Ashi', 'Carnage', 'Thunder']\n",
      "['Prime', 'Viper', 'Ashi', 'Carnage', 'Thunder', 'Poison', 'Rahul', 'Tharani']\n"
     ]
    }
   ],
   "source": [
    "#list\n",
    "\n",
    "#append\n",
    "oxy = [\"Prime\", \"Viper\", \"Ashi\", \"Carnage\", \"Thunder\"]\n",
    "print(oxy)\n",
    "oxy.append(\"Poison\")\n",
    "oxy.append(\"Rahul\")\n",
    "oxy.append(\"Tharani\")\n",
    "print(oxy)"
   ]
  },
  {
   "cell_type": "code",
   "execution_count": 116,
   "metadata": {},
   "outputs": [
    {
     "data": {
      "text/plain": [
       "1"
      ]
     },
     "execution_count": 116,
     "metadata": {},
     "output_type": "execute_result"
    }
   ],
   "source": [
    "#count\n",
    "oxy.count('Prime')"
   ]
  },
  {
   "cell_type": "code",
   "execution_count": 117,
   "metadata": {},
   "outputs": [
    {
     "data": {
      "text/plain": [
       "['Prime', 'Viper', 'Ashi', 'Carnage', 'Thunder', 'Poison', 'Rahul', 'Tharani']"
      ]
     },
     "execution_count": 117,
     "metadata": {},
     "output_type": "execute_result"
    }
   ],
   "source": [
    "#copy\n",
    "oxy1 = oxy.copy()\n",
    "oxy1"
   ]
  },
  {
   "cell_type": "code",
   "execution_count": 119,
   "metadata": {},
   "outputs": [
    {
     "name": "stdout",
     "output_type": "stream",
     "text": [
      "['Prime', 'Viper', 'Ashi', 'Carnage', 'Thunder', 'Poison', 'Rahul', 'Tharani', 'omen']\n",
      "['Prime', 'Viper', 'Ashi', 'Carnage', 'Thunder', 'Poison', 'Rahul', 'Tharani']\n"
     ]
    }
   ],
   "source": [
    "oxy1.append(\"omen\")\n",
    "print(oxy1)\n",
    "\n",
    "#deleting\n",
    "del oxy1[8]\n",
    "print(oxy1)"
   ]
  },
  {
   "cell_type": "code",
   "execution_count": 144,
   "metadata": {},
   "outputs": [
    {
     "name": "stdout",
     "output_type": "stream",
     "text": [
      "['a', 'b', 'c', 'd']\n",
      "['a', 'b', 'c', 'd', 'e', 'f', 'g']\n"
     ]
    }
   ],
   "source": [
    "#extend - to add multiple elements from diff data structure\n",
    "alph = [\"a\",\"b\",\"c\",\"d\"]#list\n",
    "print(alph)\n",
    "\n",
    "alhp2 ={\"e\",\"f\",\"g\"}#tuple\n",
    "alph.extend(alhp2)\n",
    "print(alph)\n",
    "\n"
   ]
  },
  {
   "cell_type": "code",
   "execution_count": 143,
   "metadata": {},
   "outputs": [
    {
     "ename": "TypeError",
     "evalue": "can only concatenate list (not \"tuple\") to list",
     "output_type": "error",
     "traceback": [
      "\u001b[1;31m---------------------------------------------------------------------------\u001b[0m",
      "\u001b[1;31mTypeError\u001b[0m                                 Traceback (most recent call last)",
      "Cell \u001b[1;32mIn[143], line 4\u001b[0m\n\u001b[0;32m      1\u001b[0m alph \u001b[38;5;241m=\u001b[39m [\u001b[38;5;124m\"\u001b[39m\u001b[38;5;124ma\u001b[39m\u001b[38;5;124m\"\u001b[39m,\u001b[38;5;124m\"\u001b[39m\u001b[38;5;124mb\u001b[39m\u001b[38;5;124m\"\u001b[39m,\u001b[38;5;124m\"\u001b[39m\u001b[38;5;124mc\u001b[39m\u001b[38;5;124m\"\u001b[39m,\u001b[38;5;124m\"\u001b[39m\u001b[38;5;124md\u001b[39m\u001b[38;5;124m\"\u001b[39m] \u001b[38;5;66;03m#list\u001b[39;00m\n\u001b[0;32m      2\u001b[0m alhp2 \u001b[38;5;241m=\u001b[39m(\u001b[38;5;124m\"\u001b[39m\u001b[38;5;124me\u001b[39m\u001b[38;5;124m\"\u001b[39m,\u001b[38;5;124m\"\u001b[39m\u001b[38;5;124mf\u001b[39m\u001b[38;5;124m\"\u001b[39m,\u001b[38;5;124m\"\u001b[39m\u001b[38;5;124mg\u001b[39m\u001b[38;5;124m\"\u001b[39m)\u001b[38;5;66;03m#tuple\u001b[39;00m\n\u001b[1;32m----> 4\u001b[0m alph \u001b[38;5;241m=\u001b[39m \u001b[43malph\u001b[49m\u001b[43m  \u001b[49m\u001b[38;5;241;43m+\u001b[39;49m\u001b[43m \u001b[49m\u001b[43malhp2\u001b[49m \n\u001b[0;32m      6\u001b[0m \u001b[38;5;28mprint\u001b[39m(alph)\n",
      "\u001b[1;31mTypeError\u001b[0m: can only concatenate list (not \"tuple\") to list"
     ]
    }
   ],
   "source": [
    "\n",
    "alph = [\"a\",\"b\",\"c\",\"d\"] #list\n",
    "alhp2 =(\"e\",\"f\",\"g\")#tuple\n",
    "\n",
    "alph = alph  + alhp2 \n",
    "\n",
    "print(alph)"
   ]
  },
  {
   "cell_type": "code",
   "execution_count": 145,
   "metadata": {},
   "outputs": [
    {
     "data": {
      "text/plain": [
       "'a'"
      ]
     },
     "execution_count": 145,
     "metadata": {},
     "output_type": "execute_result"
    }
   ],
   "source": [
    "#index\n",
    "alph[-7]"
   ]
  },
  {
   "cell_type": "code",
   "execution_count": 187,
   "metadata": {},
   "outputs": [
    {
     "name": "stdout",
     "output_type": "stream",
     "text": [
      "['a', 'b', 'c', 'd', 'e', 'f', 'g', 'h']\n"
     ]
    }
   ],
   "source": [
    "#insert\n",
    "alph1 = alph.copy()\n",
    "alph1.insert(8,'h') #add an element in the given position\n",
    "print(alph1)"
   ]
  },
  {
   "cell_type": "code",
   "execution_count": 160,
   "metadata": {},
   "outputs": [
    {
     "data": {
      "text/plain": [
       "[1, 'b', 'c', 'd', 'e', 'f', 'g', 'h']"
      ]
     },
     "execution_count": 160,
     "metadata": {},
     "output_type": "execute_result"
    }
   ],
   "source": [
    "#modifying list\n",
    "alph1[0] = 1\n",
    "alph1"
   ]
  },
  {
   "cell_type": "code",
   "execution_count": 161,
   "metadata": {},
   "outputs": [
    {
     "name": "stdout",
     "output_type": "stream",
     "text": [
      "h\n",
      "b\n"
     ]
    }
   ],
   "source": [
    "#pop\n",
    "removed_element = alph1.pop()\n",
    "print(removed_element)\n",
    "\n",
    "removed_element1 = alph1.pop(1)\n",
    "print(removed_element1)"
   ]
  },
  {
   "cell_type": "code",
   "execution_count": 162,
   "metadata": {},
   "outputs": [
    {
     "name": "stdout",
     "output_type": "stream",
     "text": [
      "[1, 'c', 'd', 'e', 'f', 'g']\n",
      "[1, 'd', 'e', 'f', 'g']\n"
     ]
    }
   ],
   "source": [
    "#remove\n",
    "print(alph1)\n",
    "alph1.remove('c')\n",
    "print(alph1)"
   ]
  },
  {
   "cell_type": "code",
   "execution_count": 180,
   "metadata": {},
   "outputs": [
    {
     "data": {
      "text/plain": [
       "[2, 4, 6, 8, 10]"
      ]
     },
     "execution_count": 180,
     "metadata": {},
     "output_type": "execute_result"
    }
   ],
   "source": [
    "list1 = [1,2,3,4,5,6,7,8,9,10]\n",
    "list1[1:10:2]"
   ]
  },
  {
   "cell_type": "code",
   "execution_count": 195,
   "metadata": {},
   "outputs": [
    {
     "name": "stdout",
     "output_type": "stream",
     "text": [
      "['b', 'c', 'd', 'e', 'f', 'a', 'g', 'h']\n"
     ]
    }
   ],
   "source": [
    "alph1.pop(0)\n",
    "alph1.insert(5,'a')\n",
    "print(alph1)"
   ]
  },
  {
   "cell_type": "code",
   "execution_count": 196,
   "metadata": {},
   "outputs": [
    {
     "name": "stdout",
     "output_type": "stream",
     "text": [
      "['a', 'b', 'c', 'd', 'e', 'f', 'g', 'h']\n"
     ]
    }
   ],
   "source": [
    "alph1.sort()\n",
    "print(alph1)"
   ]
  },
  {
   "cell_type": "markdown",
   "metadata": {},
   "source": [
    "#tuple"
   ]
  },
  {
   "cell_type": "code",
   "execution_count": null,
   "metadata": {},
   "outputs": [
    {
     "name": "stdout",
     "output_type": "stream",
     "text": [
      "('apple', 'banana', 'apple', 'orange', 'apple', 'banana')\n",
      "Count of apple is  3\n",
      "banana\n",
      "105\n",
      "Min =  10  Max =  45\n"
     ]
    },
    {
     "data": {
      "text/plain": [
       "4"
      ]
     },
     "execution_count": 206,
     "metadata": {},
     "output_type": "execute_result"
    }
   ],
   "source": [
    "#count\n",
    "fruits = ('apple','banana','apple','orange','apple','banana')\n",
    "print(fruits)\n",
    "apple_count = fruits.count('apple')\n",
    "print('Count of apple is ',apple_count)\n",
    "\n",
    "#index\n",
    "print(fruits[1])\n",
    "\n",
    "#sum\n",
    "num = (10,20,30,45)\n",
    "print(sum(num))\n",
    "\n",
    "#min and max\n",
    "print('Min = ', min(num), ' Max = ', max(num))\n",
    "\n",
    "#len\n",
    "len(num)\n"
   ]
  },
  {
   "cell_type": "markdown",
   "metadata": {},
   "source": [
    "Dictionaries"
   ]
  },
  {
   "cell_type": "code",
   "execution_count": 222,
   "metadata": {},
   "outputs": [
    {
     "data": {
      "text/plain": [
       "{'Name': 'Luffy', 'Age': 19, 'position': 'captain'}"
      ]
     },
     "execution_count": 222,
     "metadata": {},
     "output_type": "execute_result"
    }
   ],
   "source": [
    "pirate = {\"Name\":\"Luffy\",\"Age\":19,'position':'captain'}\n",
    "pirate"
   ]
  },
  {
   "cell_type": "code",
   "execution_count": 213,
   "metadata": {},
   "outputs": [
    {
     "data": {
      "text/plain": [
       "'Luffy'"
      ]
     },
     "execution_count": 213,
     "metadata": {},
     "output_type": "execute_result"
    }
   ],
   "source": [
    "name = pirate[\"Name\"]\n",
    "name"
   ]
  },
  {
   "cell_type": "code",
   "execution_count": 214,
   "metadata": {},
   "outputs": [
    {
     "data": {
      "text/plain": [
       "{'Name': 'Luffy', 'Age': 17, 'position': 'captain'}"
      ]
     },
     "execution_count": 214,
     "metadata": {},
     "output_type": "execute_result"
    }
   ],
   "source": [
    "pirate[\"Age\"] = 17\n",
    "pirate"
   ]
  },
  {
   "cell_type": "code",
   "execution_count": 215,
   "metadata": {},
   "outputs": [
    {
     "data": {
      "text/plain": [
       "{'Name': 'Luffy', 'Age': 17}"
      ]
     },
     "execution_count": 215,
     "metadata": {},
     "output_type": "execute_result"
    }
   ],
   "source": [
    "del pirate[\"position\"]\n",
    "pirate"
   ]
  },
  {
   "cell_type": "code",
   "execution_count": 219,
   "metadata": {},
   "outputs": [
    {
     "data": {
      "text/plain": [
       "{'Name': 'Luffy', 'Age': 17, 'level': 'Worst Gen'}"
      ]
     },
     "execution_count": 219,
     "metadata": {},
     "output_type": "execute_result"
    }
   ],
   "source": [
    "pirate[\"level\"]= \"Worst Gen\"\n",
    "pirate"
   ]
  },
  {
   "cell_type": "code",
   "execution_count": 220,
   "metadata": {},
   "outputs": [
    {
     "data": {
      "text/plain": [
       "{'Name': 'Luffy', 'Age': 17, 'level': 'Yonko'}"
      ]
     },
     "execution_count": 220,
     "metadata": {},
     "output_type": "execute_result"
    }
   ],
   "source": [
    "pirate.update({'level':'Yonko'})\n",
    "pirate"
   ]
  },
  {
   "cell_type": "code",
   "execution_count": 221,
   "metadata": {},
   "outputs": [],
   "source": [
    "pirate.clear()"
   ]
  },
  {
   "cell_type": "code",
   "execution_count": 225,
   "metadata": {},
   "outputs": [
    {
     "name": "stdout",
     "output_type": "stream",
     "text": [
      "Name exists in the Dict\n"
     ]
    }
   ],
   "source": [
    "if 'Name' in pirate:\n",
    "    print(\"Name exists in the Dict\")"
   ]
  },
  {
   "cell_type": "code",
   "execution_count": 228,
   "metadata": {},
   "outputs": [
    {
     "name": "stdout",
     "output_type": "stream",
     "text": [
      "['Luffy', 19, 'captain']\n",
      "[('Name', 'Luffy'), ('Age', 19), ('position', 'captain')]\n"
     ]
    }
   ],
   "source": [
    "print(list(pirate.values()))\n",
    "print(list(pirate.items()))"
   ]
  },
  {
   "cell_type": "markdown",
   "metadata": {},
   "source": [
    "sets"
   ]
  },
  {
   "cell_type": "code",
   "execution_count": 229,
   "metadata": {},
   "outputs": [
    {
     "name": "stdout",
     "output_type": "stream",
     "text": [
      "{'apple', 'banana', 'orange'}\n"
     ]
    }
   ],
   "source": [
    "fruits = ('apple','banana','apple','orange','apple','banana')\n",
    "\n",
    "fruits = set(fruits)\n",
    "print(fruits)"
   ]
  },
  {
   "cell_type": "code",
   "execution_count": 230,
   "metadata": {},
   "outputs": [
    {
     "data": {
      "text/plain": [
       "{'apple', 'banana', 'mango', 'orange'}"
      ]
     },
     "execution_count": 230,
     "metadata": {},
     "output_type": "execute_result"
    }
   ],
   "source": [
    "fruits.add(\"mango\")\n",
    "fruits"
   ]
  },
  {
   "cell_type": "code",
   "execution_count": null,
   "metadata": {},
   "outputs": [
    {
     "data": {
      "text/plain": [
       "{'apple', 'banana', 'mango'}"
      ]
     },
     "execution_count": 231,
     "metadata": {},
     "output_type": "execute_result"
    }
   ],
   "source": [
    "fruits.discard('orange')\n",
    "fruits"
   ]
  },
  {
   "cell_type": "code",
   "execution_count": 233,
   "metadata": {},
   "outputs": [
    {
     "ename": "NameError",
     "evalue": "name 'colors' is not defined",
     "output_type": "error",
     "traceback": [
      "\u001b[1;31m---------------------------------------------------------------------------\u001b[0m",
      "\u001b[1;31mNameError\u001b[0m                                 Traceback (most recent call last)",
      "Cell \u001b[1;32mIn[233], line 1\u001b[0m\n\u001b[1;32m----> 1\u001b[0m subset \u001b[38;5;241m=\u001b[39m fruits\u001b[38;5;241m.\u001b[39missubset(\u001b[43mcolors\u001b[49m)\n",
      "\u001b[1;31mNameError\u001b[0m: name 'colors' is not defined"
     ]
    }
   ],
   "source": [
    "subset = fruits.issubset(colors)"
   ]
  }
 ],
 "metadata": {
  "kernelspec": {
   "display_name": "Python 3",
   "language": "python",
   "name": "python3"
  },
  "language_info": {
   "codemirror_mode": {
    "name": "ipython",
    "version": 3
   },
   "file_extension": ".py",
   "mimetype": "text/x-python",
   "name": "python",
   "nbconvert_exporter": "python",
   "pygments_lexer": "ipython3",
   "version": "3.12.3"
  }
 },
 "nbformat": 4,
 "nbformat_minor": 2
}
