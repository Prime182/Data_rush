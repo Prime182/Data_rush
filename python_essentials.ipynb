{
 "cells": [
  {
   "cell_type": "markdown",
   "id": "35839b78",
   "metadata": {},
   "source": [
    "## Variables:\n",
    "Assign integer, float, string, and boolean variables representing a dataset name, number of samples, training accuracy, and a model trained flag."
   ]
  },
  {
   "cell_type": "code",
   "execution_count": 11,
   "id": "176b024f",
   "metadata": {},
   "outputs": [],
   "source": [
    "dataset = \"random.csv\"\n",
    "no_of_samples = 3999\n",
    "is_trained = True\n",
    "training_accuracy = 0.91\n"
   ]
  },
  {
   "cell_type": "markdown",
   "id": "1a5ec825",
   "metadata": {},
   "source": [
    "## Comments & Syntax:\n",
    "Write a function that prints \"Welcome to AI Engineering!\", and add a comment at the top of your code."
   ]
  },
  {
   "cell_type": "code",
   "execution_count": 27,
   "id": "00382e0b",
   "metadata": {},
   "outputs": [
    {
     "name": "stdout",
     "output_type": "stream",
     "text": [
      "Welcome to AI Engineering!\n"
     ]
    }
   ],
   "source": [
    "# this is a comment, below is print  \n",
    "def welcome():\n",
    "    print(\"Welcome to AI Engineering!\")\n",
    "welcome()"
   ]
  },
  {
   "cell_type": "markdown",
   "id": "3781d386",
   "metadata": {},
   "source": [
    "## Simple Data Summary:\n",
    "Given variables: num_samples = 60000, accuracy = 0.95, dataset = \"CIFAR-10\", trained = True, write code to print a summary like:\n",
    "\n",
    "\n",
    "* Dataset: CIFAR-10\n",
    "* Samples: 60000\n",
    "* Trained: Yes\n",
    "* Accuracy: 95.0%"
   ]
  },
  {
   "cell_type": "code",
   "execution_count": 29,
   "id": "e13850c2",
   "metadata": {},
   "outputs": [
    {
     "name": "stdout",
     "output_type": "stream",
     "text": [
      "\n",
      "Dataset: CIFAR-10\n",
      "Samples: 60000\n",
      "Trained: Yes\n",
      "Accuracy: 95.0%\n"
     ]
    }
   ],
   "source": [
    "num_samples = 60000\n",
    "accuracy = 0.95\n",
    "dataset = \"CIFAR-10\"\n",
    "trained = True\n",
    "def is_trained(trained):\n",
    "    return 'Yes' if trained else 'No'\n",
    "\n",
    "print(\"\\nDataset: {0}\\nSamples: {1}\\nTrained: {2}\\nAccuracy: {3}%\".format(dataset,num_samples,is_trained(trained), accuracy * 100))"
   ]
  },
  {
   "cell_type": "markdown",
   "id": "0f1d3de0",
   "metadata": {},
   "source": [
    "## Input and Output:\n",
    "Write a script asking the user for a model name and its accuracy (as a float), then print a statement:\n",
    "* \"The model <model_name> achieved <accuracy>% accuracy.\""
   ]
  },
  {
   "cell_type": "code",
   "execution_count": 31,
   "id": "e8b3d485",
   "metadata": {},
   "outputs": [
    {
     "name": "stdout",
     "output_type": "stream",
     "text": [
      "The model nitro achieved 94.0 % accuracy.\n"
     ]
    }
   ],
   "source": [
    "model_name = str(input(\"Enter Model Name :\"))\n",
    "accuracy = float(input(\"Enter Model Accuracy :\"))\n",
    "print(f\"The model {model_name} achieved {accuracy*100:.1f} % accuracy.\")"
   ]
  }
 ],
 "metadata": {
  "kernelspec": {
   "display_name": "Python 3",
   "language": "python",
   "name": "python3"
  },
  "language_info": {
   "codemirror_mode": {
    "name": "ipython",
    "version": 3
   },
   "file_extension": ".py",
   "mimetype": "text/x-python",
   "name": "python",
   "nbconvert_exporter": "python",
   "pygments_lexer": "ipython3",
   "version": "3.12.3"
  }
 },
 "nbformat": 4,
 "nbformat_minor": 5
}
